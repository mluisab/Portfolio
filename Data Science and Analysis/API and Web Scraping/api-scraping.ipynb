{
 "cells": [
  {
   "cell_type": "markdown",
   "id": "1edc8312",
   "metadata": {},
   "source": [
    "Before you turn this problem in, make sure everything runs as expected. First, **restart the kernel** (in the menubar, select Kernel$\\rightarrow$Restart) and then **run all cells** (in the menubar, select Cell$\\rightarrow$Run All).\n",
    "\n",
    "Make sure you fill in any place that says `YOUR CODE HERE` or \"YOUR ANSWER HERE\", as well as your name below:"
   ]
  },
  {
   "cell_type": "code",
   "execution_count": 1,
   "id": "a0953c5b",
   "metadata": {},
   "outputs": [],
   "source": [
    "NAME = \"Maria Baba\"\n",
    "STUDENT_ID = \"14201089\""
   ]
  },
  {
   "cell_type": "markdown",
   "id": "669fd616",
   "metadata": {},
   "source": [
    "---"
   ]
  },
  {
   "cell_type": "markdown",
   "id": "fdf49909-80cf-409a-b44d-8553e16effc6",
   "metadata": {
    "deletable": false,
    "editable": false,
    "nbgrader": {
     "cell_type": "markdown",
     "checksum": "8b585cf74037b4c712eb518f3ef8e765",
     "grade": false,
     "grade_id": "cell-3cff1dd74792b356",
     "locked": true,
     "schema_version": 3,
     "solution": false,
     "task": false
    }
   },
   "source": [
    "# Analyzing Gender Distribution Among Scientific Authors in Computational Social Science"
   ]
  },
  {
   "cell_type": "markdown",
   "id": "620fa176-4f89-4b75-96ba-634fc9b8962a",
   "metadata": {
    "deletable": false,
    "editable": false,
    "nbgrader": {
     "cell_type": "markdown",
     "checksum": "ee897c4f558978be6819e4f4f7c261f5",
     "grade": false,
     "grade_id": "cell-8c3327acf8f9bd6f",
     "locked": true,
     "schema_version": 3,
     "solution": false,
     "task": false
    }
   },
   "source": [
    "*Objective*: Understand the gender distribution of authors across different scientific disciplines using web scraping and API-based gender identification."
   ]
  },
  {
   "cell_type": "markdown",
   "id": "7b39693a-b0d4-4372-a0e0-ecca61ba40c6",
   "metadata": {
    "deletable": false,
    "editable": false,
    "nbgrader": {
     "cell_type": "markdown",
     "checksum": "7c16f3e433bf6dac45bbe3f424b3b397",
     "grade": false,
     "grade_id": "cell-e817d3557fb4f0df",
     "locked": true,
     "schema_version": 3,
     "solution": false,
     "task": false
    }
   },
   "source": [
    "Gender diversity in research is crucial for ensuring diverse perspectives and approaches in scientific inquiry, and for the comprehensiveness and richness of research findings. A balanced gender representation can help challenge systemic biases that might otherwise marginalize or overlook significant areas of study. A diverse research community can also act as a role model, inspiring future generations of all genders to pursue scientific endeavors.\n",
    "\n",
    "This assignment focuses on the question of the gender distribution of researchers in different disciplines, and on identifying how often women are the first or last author of publications. \n",
    "\n",
    "To do so, you will scrape a preprint website, and you will use the API genderize.io to identify the gender of the author based on their name.\n",
    "\n",
    "1. Prepare: Identify a source and decide a scraping strategy\n",
    "\n",
    "2. Scrape the list of articles and authors\n",
    "\n",
    "3. Use API to identify gender \n",
    "\n",
    "4. Analyze gender distribution and authorship order\n",
    "\n",
    "5. Reflect on your findings. \n",
    "\n",
    "6. Scrape the paper abstracts"
   ]
  },
  {
   "cell_type": "markdown",
   "id": "612f155b-74cb-427d-8650-9b76782acb00",
   "metadata": {
    "deletable": false,
    "editable": false,
    "nbgrader": {
     "cell_type": "markdown",
     "checksum": "1dda8234fd20fa3e245cee7db24992a9",
     "grade": false,
     "grade_id": "cell-df1834b4ac2ae69b",
     "locked": true,
     "schema_version": 3,
     "solution": false,
     "task": false
    }
   },
   "source": [
    "### Setup and requirements\n",
    "First make sure that you have the needed libraries for Python correctly installed."
   ]
  },
  {
   "cell_type": "code",
   "execution_count": 2,
   "id": "ad6ecfdd-54b5-49ab-b84b-279c4831b89f",
   "metadata": {},
   "outputs": [],
   "source": [
    "# Selenium\n",
    "# !pip install selenium\n",
    "# !pip install webdriver-manager\n",
    "# !pip install webdriver-manager --upgrade\n",
    "# !pip install packaging\n",
    "from selenium import webdriver\n",
    "from selenium.webdriver.chrome.service import Service\n",
    "from webdriver_manager.chrome import ChromeDriverManager\n",
    "import time\n",
    "from selenium.webdriver.common.by import By\n",
    "\n",
    "# driver = webdriver.Chrome(service=Service(ChromeDriverManager().install()))\n",
    "# driver.get(\"https://www.google.com\")"
   ]
  },
  {
   "cell_type": "code",
   "execution_count": 3,
   "id": "54b9c67f-2327-4373-9a39-f7b94360b915",
   "metadata": {},
   "outputs": [],
   "source": [
    "# Request\n",
    "#%pip install requests\n",
    "import requests"
   ]
  },
  {
   "cell_type": "code",
   "execution_count": 4,
   "id": "acb1d394-4f99-49d2-a25c-edf6af82561a",
   "metadata": {},
   "outputs": [],
   "source": [
    "# Beautifulsoup\n",
    "#%pip install beautifulsoup\n",
    "from bs4 import BeautifulSoup"
   ]
  },
  {
   "cell_type": "code",
   "execution_count": 5,
   "id": "9c6550b7-edfc-47df-af69-3d9665090102",
   "metadata": {},
   "outputs": [],
   "source": [
    "import pandas as pd\n",
    "import numpy as np"
   ]
  },
  {
   "cell_type": "markdown",
   "id": "fa12a9d5-8975-425f-8e13-dc4e586090ea",
   "metadata": {
    "deletable": false,
    "editable": false,
    "nbgrader": {
     "cell_type": "markdown",
     "checksum": "30d4be4fd67982bfddf22fbe5c9fdf48",
     "grade": false,
     "grade_id": "cell-dcc2e17cee32d989",
     "locked": true,
     "schema_version": 3,
     "solution": false,
     "task": false
    }
   },
   "source": [
    "## 1. Plan and strategize\n",
    "\n",
    "We first need to decide which site to scrape and our strategy for doing so. We will focus on a preprint repository. Preprint repositories host and disseminate research papers before they are peer-reviewed and published in academic journals. They therefore give a view of the latest research.\n",
    "\n",
    "There are several repositories that represent different scientific disciplines (e.g., PubMed for life sciences, arXiv for physics and computer science, JSTOR for humanities and social sciences, SocArxiv for social science, etc.) \n",
    "\n",
    "We will here focus on arxiv.org, where many Computational Social Scientists publish, often under the category \"Computers and Society\".\n",
    "\n",
    "You need to pick a page on ArXiv where you can get a representative sample of these research papers -- and which you are allowed to scrape.\n",
    "\n",
    "1. Browse Arxiv.org, and select a page on the website where you can find a sample of research papers.\n",
    "2. Check the robots.txt. Are you allowed to scrape the page you selected? (If not, you will have to choose another one!)\n",
    "3. Decide a strategy for scraping the page as quickly and easily as possible to find the names of the authors for each paper, their titles, and a link to the pages.\n",
    "4. Choose which Python libraries for scraping that you will use."
   ]
  },
  {
   "cell_type": "markdown",
   "id": "f723d96b-af05-42a4-981b-4d8d1722e22d",
   "metadata": {
    "deletable": false,
    "editable": false,
    "nbgrader": {
     "cell_type": "markdown",
     "checksum": "d6b6e1409e86d810ef169596cbabc039",
     "grade": false,
     "grade_id": "cell-4696e716d4f1c81a",
     "locked": true,
     "schema_version": 3,
     "solution": false,
     "task": false
    }
   },
   "source": [
    "### Question 1: Which library is most suitable?\n",
    "\n",
    "Given the structure of the website, which Python libraries for scraping do you think is appropriate to use? Motivate your choice in a few sentences.\n",
    "\n",
    "_[Student answers here.]_The library that is appropriate to use for this website is requests as the website is static and the information is easy to extract.\n",
    "\n",
    "[Evaluation: This is an open question. Any motivation that makes sense is fine, but in general, requests make more sense for this page than selenium, since the site in question is not dynamic. Using selenium will be slower and more difficult.]"
   ]
  },
  {
   "cell_type": "markdown",
   "id": "b4455efa-4750-4473-aa08-db19ba9bafce",
   "metadata": {
    "deletable": false,
    "editable": false,
    "nbgrader": {
     "cell_type": "markdown",
     "checksum": "594b965b0d990ca90076303a53a26d39",
     "grade": false,
     "grade_id": "cell-f043dfd5a37ede8f",
     "locked": true,
     "schema_version": 3,
     "solution": false,
     "task": false
    }
   },
   "source": [
    "## 2. Scrape the list of articles and authors \n",
    "\n",
    "Implement your scraping strategy. Scrape the page and collect the information about the publication. \n",
    "\n",
    "- You will need to get (1) the link to the article, (2) the title of the article, (3) the names of all authors of the paper, in the same order as they appear on the paper. \n",
    "- You need to scrape 200 research papers.\n",
    "\n",
    "- Note that you may need to iterate over multiple pages.\n",
    "- Note that you need to handle possible exceptions and that your code needs to be able to restart if it crashes.\n",
    "- You final result should be a list of dicts, with keys 'title', 'url', and 'authors'. 'authors' should consist of a list where the authors are listed in the order that they were on the paper. \n",
    "- You need to clean and validate your data: check that all papers have authors, that all papers have titles, clean the texts to remove empty spaces and similar, etc.\n",
    "- Store the resulting array persistently as a pickle with the name 'scraping_result.pkl'.\n",
    "\n",
    "For instance: [{'title': 'How to use Large Langauge Models for Text Analysis', 'authors': ['Törnberg, Petter'], 'url':'https://arxiv.org/abs/2307.13106' } ...]\n"
   ]
  },
  {
   "cell_type": "code",
   "execution_count": 6,
   "metadata": {},
   "outputs": [
    {
     "name": "stdout",
     "output_type": "stream",
     "text": [
      "Here is the result from the API:\n",
      "<?xml version=\"1.0\" encoding=\"UTF-8\"?>\n",
      "<feed xmlns=\"http://www.w3.org/2005/Atom\">\n",
      "  <link href=\"http://arxiv.org/api/query?search_query%3Dcat%3AComputers_and_Society%26id_list%3D%26start%3D0%26max_results%3D20\" rel=\"self\" type=\"application/atom+xml\"/>\n",
      "  <title type=\"html\">ArXiv Query: search_query=cat:Computers_and_Society&amp;id_list=&amp;start=0&amp;max_results=20</title>\n",
      "  <id>http://arxiv.org/api/f8gw0sxDLFbZJmxFiqU6UaX9yoA</id>\n",
      "  <updated>2023-12-08T00:00:00-05:00</updated>\n",
      "  <opensearch:totalResults xmlns:opensearch=\"http://a9.com/-/spec/opensearch/1.1/\">0</opensearch:totalResults>\n",
      "  <opensearch:startIndex xmlns:opensearch=\"http://a9.com/-/spec/opensearch/1.1/\">0</opensearch:startIndex>\n",
      "  <opensearch:itemsPerPage xmlns:opensearch=\"http://a9.com/-/spec/opensearch/1.1/\">20</opensearch:itemsPerPage>\n",
      "</feed>\n",
      "\n"
     ]
    }
   ],
   "source": [
    "#scrape 200 articles from computers and society category\n",
    "\n",
    "import requests\n",
    "base_url= 'http://export.arxiv.org/api/query?'\n",
    "search_query= 'cat:Computers_and_Society'\n",
    "parameters=\"start=0&max_results=20\"\n",
    "\n",
    "url= f'{base_url}search_query={search_query}&{parameters}'\n",
    "\n",
    "response= requests.get(url)\n",
    "if response.status_code == 200:\n",
    "    print(\"Here is the result from the API:\")\n",
    "    print(response.text)\n",
    "    json_string = response.text\n",
    "else:\n",
    "    print(\"Error\")"
   ]
  },
  {
   "cell_type": "code",
   "execution_count": 7,
   "id": "f9449314",
   "metadata": {
    "deletable": false,
    "nbgrader": {
     "cell_type": "code",
     "checksum": "53252983d2c99f0b67a82089ef4b22fb",
     "grade": false,
     "grade_id": "cell-f23671663c59f383",
     "locked": false,
     "schema_version": 3,
     "solution": true,
     "task": false
    }
   },
   "outputs": [
    {
     "name": "stdout",
     "output_type": "stream",
     "text": [
      "[{'title': 'Influencing Software Usage', 'authors': ['Lorrie Faith Cranor', 'Rebecca N. Wright'], 'url': 'http://arxiv.org/abs/cs/9809018v1'}, {'title': 'The Impact of Net Culture on Mainstream Societies: a Global Analysis', 'authors': ['Tapas Kumar Das'], 'url': 'http://arxiv.org/abs/cs/9903013v1'}, {'title': 'Not Just a Matter of Time: Field Differences and the Shaping of\\n  Electronic Media in Supporting Scientific Communication', 'authors': ['Rob Kling', 'Geoffrey McKim'], 'url': 'http://arxiv.org/abs/cs/9909008v2'}, {'title': 'Agents of Choice: Tools that Facilitate Notice and Choice about Web Site\\n  Data Practices', 'authors': ['Lorrie Faith Cranor'], 'url': 'http://arxiv.org/abs/cs/0001011v1'}, {'title': 'Scientific Collaboratories as Socio-Technical Interaction Networks: A\\n  Theoretical Approach', 'authors': ['Rob Kling', 'Geoffrey McKim', 'Joanna Fortuna', 'Adam King'], 'url': 'http://arxiv.org/abs/cs/0005007v1'}, {'title': \"What's Fit To Print: The Effect Of Ownership Concentration On Product\\n  Variety In Daily Newspaper Markets\", 'authors': ['Lisa M. George'], 'url': 'http://arxiv.org/abs/cs/0108014v1'}, {'title': 'Spiders and Crawlers and Bots, Oh My: The Economic Efficiency and Public\\n  Policy of Contracts that Restrict Data Collection', 'authors': ['Jeffrey M. Rosenfeld'], 'url': 'http://arxiv.org/abs/cs/0108015v1'}, {'title': 'Voice vs Data: Estimates of Media Usage and Network Traffic', 'authors': ['A. Michael Noll'], 'url': 'http://arxiv.org/abs/cs/0109007v2'}, {'title': 'The Role of Incentives for Opening Monopoly Markets: Comparing GTE and\\n  BOC Cooperation with Local Entrants', 'authors': ['Federico Mini'], 'url': 'http://arxiv.org/abs/cs/0109008v1'}, {'title': 'The Effect of Native Language on Internet Usage', 'authors': ['Neil Gandal', 'Carl Shapiro'], 'url': 'http://arxiv.org/abs/cs/0109009v1'}, {'title': 'Is There a There There: Towards Greater Certainty for Internet\\n  Jurisdiction', 'authors': ['Michael Geist'], 'url': 'http://arxiv.org/abs/cs/0109012v1'}, {'title': 'Communications Convergence, Spectrum Use and Regulatory Constraints, Or\\n  Property Rights, Flexible Spectrum Use and Satellite v. Terrestrial Uses and\\n  Users', 'authors': ['Douglas W. Webbink'], 'url': 'http://arxiv.org/abs/cs/0109016v1'}, {'title': 'Competing DNS Roots: Creative Destruction or Just Plain Destruction?', 'authors': ['Milton L. Mueller'], 'url': 'http://arxiv.org/abs/cs/0109021v2'}, {'title': 'Conceptualising Regulatory Change - Explaining Shifts in\\n  Telecommunications Governance', 'authors': ['Seamus Simpson', 'Rorden Wilkinson'], 'url': 'http://arxiv.org/abs/cs/0109026v1'}, {'title': 'The Internet, 1995-2000: Access, Civic Involvement, and Social\\n  Interaction', 'authors': ['James Katz', 'Ronald E. Rice', 'Philip Aspden'], 'url': 'http://arxiv.org/abs/cs/0109032v1'}, {'title': 'Revenge of the Bell Heads: How the Net Heads Lost Control of the\\n  Internet', 'authors': ['Rob Frieden'], 'url': 'http://arxiv.org/abs/cs/0109035v1'}, {'title': 'Competition and Price Dispersion in International Long Distance Calling', 'authors': ['Sean F. Ennis'], 'url': 'http://arxiv.org/abs/cs/0109036v2'}, {'title': 'Antitrust, Intellectual Property and Standard-Setting Organizations', 'authors': ['Mark A. Lemley'], 'url': 'http://arxiv.org/abs/cs/0109037v1'}, {'title': 'Crisis of Public Utility Deregulation and the Unrecognized Welfare State', 'authors': ['Barbara A. Cherry'], 'url': 'http://arxiv.org/abs/cs/0109038v1'}, {'title': 'PUC Autonomy and Policy Innovation: Local Telephone Competition in\\n  Arkansas and New York', 'authors': ['Hokyu Lee', 'Harmeet Sawhney'], 'url': 'http://arxiv.org/abs/cs/0109043v1'}, {'title': 'Analyzing ENUM Service and Administration from the Bottom Up: The\\n  addressing system for IP telephony and beyond', 'authors': ['Junseok Hwang', 'Milton Mueller', 'Gunyoung Yoon', 'Joonmin Kim'], 'url': 'http://arxiv.org/abs/cs/0109044v1'}, {'title': \"Product Cycle, Wintelism, and Cross-national Production Networks (CPN)\\n  for Developing Countries-- China's Telecom Manufacturing Industry as A Case\", 'authors': ['Zixiang Alex Tan'], 'url': 'http://arxiv.org/abs/cs/0109045v1'}, {'title': 'Internet Radio: A New Engine for Content Diversity?', 'authors': ['Benjamin Compaine', 'Emma Smith'], 'url': 'http://arxiv.org/abs/cs/0109046v1'}, {'title': \"Between a rock and a hard place: assessing the application of domestic\\n  policy and South Africa's commitments under the WTO'S Basic\\n  Telecommunications Agreement\", 'authors': ['Tracy Cohen'], 'url': 'http://arxiv.org/abs/cs/0109047v1'}, {'title': 'Competition and Commons: The Post-Telecom Act Public Interest, in and\\n  after the AOLTW Merger', 'authors': ['Patricia Aufderheide'], 'url': 'http://arxiv.org/abs/cs/0109048v1'}, {'title': 'Signing Initiative Petitions Online: Possibilities, Problems and\\n  Prospects', 'authors': ['Walter S. Baer'], 'url': 'http://arxiv.org/abs/cs/0109049v1'}, {'title': 'A Framework for Assessing Universal Service Obligations: A Developing\\n  Country Perspective', 'authors': ['Rekha S. Jain', 'Pinaki Das'], 'url': 'http://arxiv.org/abs/cs/0109050v1'}, {'title': 'Internet TV: Business Models and Program Content', 'authors': ['David Waterman'], 'url': 'http://arxiv.org/abs/cs/0109051v1'}, {'title': 'Globalization and Governance in Cyberspace: Mapping the Processes of\\n  Emergent Regime Formation in Global Information and Communications Policy', 'authors': ['Derrick L. Cogburn'], 'url': 'http://arxiv.org/abs/cs/0109052v1'}, {'title': 'Price Increases from Online Privacy', 'authors': ['Michael R. Ward', 'Yu-Ching Chen'], 'url': 'http://arxiv.org/abs/cs/0109053v1'}, {'title': 'Monopoly Power on the Web - A Preliminary Investigation of Search\\n  Engines', 'authors': ['Tair-Rong Sheu', 'Kathleen Carley'], 'url': 'http://arxiv.org/abs/cs/0109054v1'}, {'title': 'Standardization versus Coverage in Wireless Telephone Networks', 'authors': ['Neil Gandal', 'David Salant', 'Leonard Waverman'], 'url': 'http://arxiv.org/abs/cs/0109055v1'}, {'title': 'Ideological and Policy Origins of the Internet, 1957-1969', 'authors': ['Andrew L. Russell'], 'url': 'http://arxiv.org/abs/cs/0109056v2'}, {'title': 'Do Switching Costs Make Markets More or Less Competitive?: The Case of\\n  800-Number Portability', 'authors': ['V. Brian Viard'], 'url': 'http://arxiv.org/abs/cs/0109057v2'}, {'title': \"Profiling Internet Users' Participation in Social Change Agendas: An\\n  application of Q methodology\", 'authors': ['J. Previte', 'G. Hearn', 'S. Dann'], 'url': 'http://arxiv.org/abs/cs/0109058v2'}, {'title': 'Bringing the Internet to Schools: US and EU policies', 'authors': ['Michelle S. Kosmidis'], 'url': 'http://arxiv.org/abs/cs/0109059v1'}, {'title': 'Geography and the Internet: Is the Internet a Substitute or a Complement\\n  for Cities?', 'authors': ['Todd Sinai', 'Joel Waldfogel'], 'url': 'http://arxiv.org/abs/cs/0109061v1'}, {'title': 'India Attempts to Give a Jump-start to its Derailed Telecommunications\\n  Liberalization Process', 'authors': ['Rajni Gupta'], 'url': 'http://arxiv.org/abs/cs/0109062v1'}, {'title': 'Universal service, specific services on generic networks, some logic\\n  begins to emerge in the policy area', 'authors': ['Richard Cawley'], 'url': 'http://arxiv.org/abs/cs/0109063v1'}, {'title': 'Commonalities: The R.E.A. and High-Speed Rural Internet Access', 'authors': ['Laurence J. Malone'], 'url': 'http://arxiv.org/abs/cs/0109064v1'}, {'title': 'On the Use of Vickrey Auctions for Spectrum Allocation in Developing\\n  Countries', 'authors': ['G. Anandalingam'], 'url': 'http://arxiv.org/abs/cs/0109065v1'}, {'title': 'Voice over IP in the Local Exchange: A Case Study', 'authors': ['Martin B. H. Weiss', 'Hak-Ju Kim'], 'url': 'http://arxiv.org/abs/cs/0109067v1'}, {'title': \"Second-Level Digital Divide: Mapping Differences in People's Online\\n  Skills\", 'authors': ['Eszter Hargittai'], 'url': 'http://arxiv.org/abs/cs/0109068v1'}, {'title': 'United States v. Microsoft: A Failure of Antitrust in the New Economy', 'authors': ['Nicholas Economides'], 'url': 'http://arxiv.org/abs/cs/0109069v1'}, {'title': 'Networks Unplugged: Towards A Model of Compatibility Regulation Between\\n  Information Platforms', 'authors': ['Phil Weiser'], 'url': 'http://arxiv.org/abs/cs/0109070v1'}, {'title': 'The Impact of Incentives in the Telecommunications Act of 1996 on\\n  Corporate Strategies', 'authors': ['Martha Garcia-Murillo', 'Ian MacInnes'], 'url': 'http://arxiv.org/abs/cs/0109071v1'}, {'title': 'E-Business and SMEs: Preliminary Evidence from Selected Italian\\n  Districts', 'authors': ['Lucia Piscitello', 'Francesca Sgobbi'], 'url': 'http://arxiv.org/abs/cs/0109073v1'}, {'title': 'Indicators of Independence in Regulatory Commissions', 'authors': ['Susan Oberlander'], 'url': 'http://arxiv.org/abs/cs/0109074v3'}, {'title': 'ICANN and Antitrust', 'authors': ['A. Michael Froomkin', 'Mark A. Lemley'], 'url': 'http://arxiv.org/abs/cs/0109075v1'}, {'title': 'Out of the Loop: Problems in the development of next generation\\n  community networks', 'authors': ['Murali Venkatesh', 'Dong-Hee Shin'], 'url': 'http://arxiv.org/abs/cs/0109076v2'}, {'title': \"Coase's Penguin, or Linux and the Nature of the Firm\", 'authors': ['Yochai Benkler'], 'url': 'http://arxiv.org/abs/cs/0109077v2'}, {'title': 'Internet Attacks: A Policy Framework for Rules of Engagement', 'authors': ['William Yurcik', 'David Doss'], 'url': 'http://arxiv.org/abs/cs/0109078v1'}, {'title': 'National Information Infrastructure Development in Canada and the U.S.:\\n  Redefining Universal Service and Universal Access in the Age of\\n  Techno-Economic Convergence', 'authors': ['Martin Dowding'], 'url': 'http://arxiv.org/abs/cs/0109079v1'}, {'title': 'Lead, Follow, or Go Your Own Way: Empirical Evidence Against\\n  Leader-Follower Behavior in Electronic Markets', 'authors': ['Karen Clay', 'Michael Smith', 'Eric Wolff'], 'url': 'http://arxiv.org/abs/cs/0109080v1'}, {'title': \"Electronic Access to Information and the Privacy Paradox: Rethinking\\n  :'Practical Obscurity'\", 'authors': ['Charles N. Davis'], 'url': 'http://arxiv.org/abs/cs/0109083v1'}, {'title': 'Policy for access: Framing the question', 'authors': ['David Allen'], 'url': 'http://arxiv.org/abs/cs/0109085v2'}, {'title': 'Realspace Sovereigns in Cyberspace: The Case of Domain Names', 'authors': ['R. Polk Wagner', 'Catherine T. Struve'], 'url': 'http://arxiv.org/abs/cs/0109086v3'}, {'title': 'Civic Engagement among Early Internet Adopters: Trend or Phase?', 'authors': ['Andrea L. Kavanaugh'], 'url': 'http://arxiv.org/abs/cs/0109087v2'}, {'title': \"Value of Usage and Seller's Listing Behavior in Internet Auctions\", 'authors': ['Sangin Park'], 'url': 'http://arxiv.org/abs/cs/0109088v1'}, {'title': 'Telecommunications and rural economies: Findings from the Appalachian\\n  region', 'authors': ['Sharon Strover', 'Michael Oden', 'Nobuya Inagaki'], 'url': 'http://arxiv.org/abs/cs/0109090v1'}, {'title': 'Is the Commercial Mass Media Necessary, or Even Desirable, for Liberal\\n  Democracy?', 'authors': ['Neil Netanel'], 'url': 'http://arxiv.org/abs/cs/0109092v1'}, {'title': 'Open Access to Monopoly Cable Platforms Versus Direct Access To\\n  Competitive International Telecommunications Satellite Facilities: A Study In\\n  Contrasts', 'authors': ['Ken Katkin'], 'url': 'http://arxiv.org/abs/cs/0109093v4'}, {'title': 'Competition and Globalization Brazilian Telecommunications Policy at\\n  Crossroads', 'authors': ['Clelia Piragibe'], 'url': 'http://arxiv.org/abs/cs/0109094v1'}, {'title': 'Assessing the Effectiveness of Section 271 Five Years After the\\n  Telecommunications Act of 1996', 'authors': ['Daniel R. Shiman', 'Jessica Rosenworcel'], 'url': 'http://arxiv.org/abs/cs/0109095v2'}, {'title': 'CyberCampaigns and Canadian Politics: Still Waiting?', 'authors': ['Tony Christensen', 'Peter McCormick'], 'url': 'http://arxiv.org/abs/cs/0109096v1'}, {'title': \"'Negotiated Liberalization': Stakeholder Politics and Communication\\n  Sector Reform in South Africa\", 'authors': ['Robert B. Horwitz'], 'url': 'http://arxiv.org/abs/cs/0109097v1'}, {'title': 'The Influence of Policy Regimes on the Development and Social\\n  Implications of Privacy Enhancing Technologies', 'authors': ['David J. Phillips'], 'url': 'http://arxiv.org/abs/cs/0109098v2'}, {'title': 'ICANN as Regulator', 'authors': ['Jonathan Weinberg'], 'url': 'http://arxiv.org/abs/cs/0109099v3'}, {'title': 'Comparison of Wireless Standards-Setting --United States Versus Europe', 'authors': ['Zixiang Alex Tan'], 'url': 'http://arxiv.org/abs/cs/0109100v1'}, {'title': 'The Next Frontier for Openness: Wireless Communications', 'authors': ['Eli M. Noam'], 'url': 'http://arxiv.org/abs/cs/0109102v3'}, {'title': 'Leveraging Software, Advocating Ideology: Free Software and Open Source', 'authors': ['Matt Ratto'], 'url': 'http://arxiv.org/abs/cs/0109103v2'}, {'title': 'Universal Service in times of Reform: Affordability and accessibility of\\n  telecommunication services in Latin America', 'authors': ['Martha Fuentes-Bautista'], 'url': 'http://arxiv.org/abs/cs/0109104v1'}, {'title': 'Standards and Intellectual Property Rights in the Age of Global\\n  Communication - A Review of the International Standardization of\\n  Third-Generation Mobile System', 'authors': ['Bjorn Hjelm'], 'url': 'http://arxiv.org/abs/cs/0109105v3'}, {'title': 'Bigger May Not Be Better: An Empirical Analysis of Optimal Membership\\n  Rules in Peer-To-Peer Networks', 'authors': ['Atip Asvanund', 'Karen Clay', 'Ramayya Krishnan', 'Michael Smith'], 'url': 'http://arxiv.org/abs/cs/0109106v2'}, {'title': 'Is Patent Law Technology Specific?', 'authors': ['Dan L. Burk', 'Mark A. Lemley'], 'url': 'http://arxiv.org/abs/cs/0109107v2'}, {'title': 'Spectrum auctions, pricing and network expansion in wireless\\n  telecommunications', 'authors': ['Johannes M. Bauer'], 'url': 'http://arxiv.org/abs/cs/0109108v1'}, {'title': 'The Role of Institutions in the Design of Communication Technologies', 'authors': ['Rajiv C. Shah', 'Jay P. Kesan'], 'url': 'http://arxiv.org/abs/cs/0109109v3'}, {'title': 'Efficient Choice, Inefficient Democracy? The Implications of Cable and\\n  Internet Access for Political Knowledge and Voter Turnout', 'authors': ['Markus Prior'], 'url': 'http://arxiv.org/abs/cs/0109110v1'}, {'title': 'Quality of service monitoring: Performance metrics across proprietary\\n  content domains', 'authors': [\"Shawn O'Donnell\", 'Hugh Carter Donahue', 'Josephine Ferrigno-Stack'], 'url': 'http://arxiv.org/abs/cs/0109111v2'}, {'title': 'Elusive Threats: Security Weaknesses of Commercial Cellular Networks', 'authors': ['Scott C. Forbes'], 'url': 'http://arxiv.org/abs/cs/0109112v1'}, {'title': 'Digital Arroyos: An Examination of State Policy and Regulated Market\\n  Boundaries in Constructing Rural Internet Access', 'authors': ['Kyle Nicholas'], 'url': 'http://arxiv.org/abs/cs/0109113v1'}, {'title': 'The Consumer Product Selection Process in an Internet Age: Obstacles to\\n  Maximum Effectiveness & Policy Options', 'authors': ['Mark S. Nadel'], 'url': 'http://arxiv.org/abs/cs/0109114v1'}, {'title': 'Prospects for Improving Competition in Mobile Roaming', 'authors': ['Ulrich Stumpf'], 'url': 'http://arxiv.org/abs/cs/0109115v2'}, {'title': 'Computer Security: Competing Concepts', 'authors': ['Helen Nissenbaum', 'Batya Friedman', 'Edward Felten'], 'url': 'http://arxiv.org/abs/cs/0110001v2'}, {'title': 'Inventing E-Regulation in the US, EU and East Asia: Conflicting Social\\n  Visions of the Internet & the Information Society', 'authors': ['Shalini Venturelli'], 'url': 'http://arxiv.org/abs/cs/0110002v1'}, {'title': 'Analyzing Website Choice Using Clickstream Data', 'authors': ['Avi Goldfarb'], 'url': 'http://arxiv.org/abs/cs/0110008v1'}, {'title': 'The Increased Need For FCC Merger Review In A Networked World', 'authors': ['Harold Feld'], 'url': 'http://arxiv.org/abs/cs/0110017v1'}, {'title': 'An Architecture for Security and Privacy in Mobile Communications', 'authors': ['G. Winfield Treese', 'Lawrence C. Stewart'], 'url': 'http://arxiv.org/abs/cs/0110042v1'}, {'title': 'From 2G TO 3G - The Evolution of International Cellular Standards', 'authors': ['Audrey N. Selian'], 'url': 'http://arxiv.org/abs/cs/0110046v1'}, {'title': 'Evolution and Gravitation: a Computer Simulation of a Non-Walrasian\\n  Equilibrium Model', 'authors': ['Michele Tucci'], 'url': 'http://arxiv.org/abs/cs/0209017v1'}, {'title': 'Transforming the Structure of Network Interconnection and Transport', 'authors': ['Douglas A. Galbi'], 'url': 'http://arxiv.org/abs/cs/0304031v1'}, {'title': 'Growth in the \"New Economy\": U.S. Bandwidth Use and Pricing Across the\\n  1990s', 'authors': ['Douglas A. Galbi'], 'url': 'http://arxiv.org/abs/cs/0304032v1'}, {'title': 'A New Account of Personalization and Effective Communication', 'authors': ['Douglas A. Galbi'], 'url': 'http://arxiv.org/abs/cs/0304033v1'}, {'title': 'Revolutionary Ideas for Radio Regulation', 'authors': ['Douglas A. Galbi'], 'url': 'http://arxiv.org/abs/cs/0304034v1'}, {'title': 'El informe NERA analizado', 'authors': ['Ricardo Galli'], 'url': 'http://arxiv.org/abs/cs/0309002v2'}, {'title': 'ICT-based planning and the missing educational link', 'authors': ['Domenico Camarda'], 'url': 'http://arxiv.org/abs/cs/0312021v1'}, {'title': 'CSIEC (Computer Simulator in Educational Communication): An Intelligent\\n  Web-Based Teaching System for Foreign Language Learning', 'authors': ['Jiyou Jia'], 'url': 'http://arxiv.org/abs/cs/0312030v1'}, {'title': 'Toward a New Policy for Scientific and Technical Communication: the Case\\n  of Kyrgyz Republic', 'authors': ['Nurlan Djenchuraev'], 'url': 'http://arxiv.org/abs/cs/0405001v1'}, {'title': 'Study of Pakistan Election System as Intelligent e-Election', 'authors': ['Muhammad Nadeem', 'Javaid R. Laghari'], 'url': 'http://arxiv.org/abs/cs/0405105v1'}, {'title': 'Should Cyberspace Chat Rooms be closed to protect Children?', 'authors': ['Vita Hinze-Hoare'], 'url': 'http://arxiv.org/abs/cs/0409021v1'}, {'title': 'Impact of IT on Higher education Through Continuing Education', 'authors': ['B. S. Shajeemohan'], 'url': 'http://arxiv.org/abs/cs/0411038v1'}, {'title': 'Oligopolistic Competition in an Evolutionary Environment: a Computer\\n  Simulation', 'authors': ['Michele Tucci'], 'url': 'http://arxiv.org/abs/cs/0501037v2'}, {'title': 'The QDF file format: an electronic system to describe ancient andean\\n  khipus', 'authors': ['Manuel Arturo Izquierdo'], 'url': 'http://arxiv.org/abs/cs/0505050v1'}, {'title': 'SciBlog : A Tool for Scientific Collaboration', 'authors': ['L. T. Handoko'], 'url': 'http://arxiv.org/abs/cs/0508061v1'}, {'title': 'Breaking barriers for people with voice disabilities: Combining virtual\\n  keyboards with speech synthesizers, and VoIP applications', 'authors': ['Paulo A. Condado', 'Fernando G. Lobo'], 'url': 'http://arxiv.org/abs/cs/0606088v1'}, {'title': 'Patterns of technological progress: A Predictability-Based Perspective', 'authors': ['Pankaj Sati'], 'url': 'http://arxiv.org/abs/cs/0702134v3'}, {'title': 'Evolutionary Socioeconomics: Notes on the Computer Simulation according\\n  to the de Finetti - Simon Principia', 'authors': ['Michele Tucci'], 'url': 'http://arxiv.org/abs/cs/0703126v2'}, {'title': 'Privacy - an Issue for eLearning? A Trend Analysis Reflecting the\\n  Attitude of European eLearning Users', 'authors': ['Katrin Borcea-Pfitzmann', 'Anne-Katrin Stange'], 'url': 'http://arxiv.org/abs/0705.0612v1'}, {'title': 'Modeling and Controlling Interstate Conflict', 'authors': ['Tshilidzi Marwala', 'Monica Lagazio'], 'url': 'http://arxiv.org/abs/0705.1761v1'}, {'title': 'Applying Test-Paradigms in a Generic Tutoring System Concept for\\n  Web-based Learning', 'authors': ['Matthias R. Brust'], 'url': 'http://arxiv.org/abs/0706.1066v1'}, {'title': 'Instrumented Collective Learning Situations (ICLS): the Gap between\\n  Theoretical Research and Observed Practices', 'authors': ['Christine Michel', 'Elise Garrot', 'Sebastien George'], 'url': 'http://arxiv.org/abs/0707.2934v1'}, {'title': \"Situations d'apprentissage collectives instrumentées : étude de\\n  pratiques dans l'enseignement supérieur\", 'authors': ['Christine Michel', 'Elise Garrot', 'Sebastien George'], 'url': 'http://arxiv.org/abs/0707.3014v1'}, {'title': 'Introducing OPTO : Portal for Optical Communities in Indonesia', 'authors': ['T. B. Waluyo', 'L. T. Handoko'], 'url': 'http://arxiv.org/abs/0708.0604v1'}, {'title': 'The study of a new gerrymandering methodology', 'authors': ['Pan Kai', 'Tan Yue', 'Jiang Sheng'], 'url': 'http://arxiv.org/abs/0708.2266v1'}, {'title': 'User Participation in Social Media: Digg Study', 'authors': ['Kristina Lerman'], 'url': 'http://arxiv.org/abs/0708.2414v1'}, {'title': 'Brief encounter networks', 'authors': ['Vassilis Kostakos', \"Eamonn O'Neill\", 'Alan Penn'], 'url': 'http://arxiv.org/abs/0709.0223v1'}, {'title': 'The Importance and Criticality of Spreadsheets in the City of London', 'authors': ['Grenville J. Croll'], 'url': 'http://arxiv.org/abs/0709.4063v2'}, {'title': 'Spreadsheets in Clinical Medicine', 'authors': ['Grenville J. Croll', 'Raymond J. Butler'], 'url': 'http://arxiv.org/abs/0710.0871v1'}, {'title': 'WWW Spiders: an introduction', 'authors': ['Massimiliano Zanin'], 'url': 'http://arxiv.org/abs/0710.5054v1'}, {'title': 'A new approach for scientific data dissemination in developing\\n  countries: a case of Indonesia', 'authors': ['L. T. Handoko'], 'url': 'http://arxiv.org/abs/0711.2842v3'}, {'title': 'Spreadsheet Risk - A New Direction for HMRC?', 'authors': ['D. Price'], 'url': 'http://arxiv.org/abs/0711.4613v1'}, {'title': 'Strategies for Addressing Spreadsheet Compliance Challenges', 'authors': ['Brandon Weber'], 'url': 'http://arxiv.org/abs/0711.4634v1'}, {'title': 'What is Community Informatics (and Why Does It Matter)?', 'authors': ['Michael Gurstein'], 'url': 'http://arxiv.org/abs/0712.3220v1'}, {'title': 'Impact of Errors in Operational Spreadsheets', 'authors': ['Stephen G. Powell', 'Barry Lawson', 'Kenneth R. Baker'], 'url': 'http://arxiv.org/abs/0801.0715v1'}, {'title': 'Teaching spreadsheet development using peer audit and self-audit methods\\n  for reducing error', 'authors': ['David Chadwick', 'Rodney E. Sue'], 'url': 'http://arxiv.org/abs/0801.1514v1'}, {'title': 'An Evaluation of a Structured Spreadsheet Development Methodology', 'authors': ['Kamalasen Rajalingham', 'David Chadwick', 'Brian Knight'], 'url': 'http://arxiv.org/abs/0801.1516v1'}, {'title': 'Enterprise Spreadsheet Management: A Necessary Good', 'authors': ['Ralph Baxter'], 'url': 'http://arxiv.org/abs/0801.3116v1'}, {'title': 'Spreadsheet Hell', 'authors': ['Simon Murphy'], 'url': 'http://arxiv.org/abs/0801.3118v1'}, {'title': 'Popularity, Novelty and Attention', 'authors': ['Fang Wu', 'Bernardo A. Huberman'], 'url': 'http://arxiv.org/abs/0802.0483v1'}, {'title': 'The Stength of Weak cooperation: A Case Study on Flickr', 'authors': ['Christophe Prieur', 'Dominique Cardon', 'Jean-Samuel Beuscart', 'Nicolas Pissard', 'Pascal Pons'], 'url': 'http://arxiv.org/abs/0802.2317v1'}, {'title': 'Outward Accessibility in Urban Street Networks: Characterization and\\n  Improvements', 'authors': ['Bruno Augusto Nassif Travençolo', 'Luciano da Fontoura Costa'], 'url': 'http://arxiv.org/abs/0802.3665v1'}, {'title': 'Towards a Spreadsheet Engineering', 'authors': ['V. R. Vemula', 'David Ball', 'Simon Thorne'], 'url': 'http://arxiv.org/abs/0803.0159v1'}, {'title': 'On the need for a global academic internet platform', 'authors': ['Nadja Kutz'], 'url': 'http://arxiv.org/abs/0803.1360v1'}, {'title': 'Characterizing User Mobility in Second Life', 'authors': ['Chi-Anh La', 'Pietro Michiardi'], 'url': 'http://arxiv.org/abs/0804.1928v2'}, {'title': 'Intelligence gathering by capturing the social processes within prisons', 'authors': ['Vassilis Kostakos', 'Panos A. Kostakos'], 'url': 'http://arxiv.org/abs/0804.3064v2'}, {'title': 'Electronic Voting: the Devil is in the Details', 'authors': ['Chantal Enguehard', 'Jean-Didier Graton'], 'url': 'http://arxiv.org/abs/0804.3237v1'}, {'title': 'An Approach to Learning Research with a Wireless Sensor Network in an\\n  Outdoor Setting', 'authors': ['Tom Adam Frederic Anderson', 'Yean-Fu Wen'], 'url': 'http://arxiv.org/abs/0805.0560v1'}, {'title': 'Public Discourse in the Web Does Not Exhibit Group Polarization', 'authors': ['Fang Wu', 'Bernardo A. Huberman'], 'url': 'http://arxiv.org/abs/0805.3537v1'}, {'title': 'Community Detection using a Measure of Global Influence', 'authors': ['Rumi Ghosh', 'Kristina Lerman'], 'url': 'http://arxiv.org/abs/0805.4606v1'}, {'title': 'Cluster Development and Knowledge Exchange in Supply Chain', 'authors': ['Pradorn Sureephong', 'Nopasit Chakpitak', 'Laurent Buzon', 'Abdelaziz Bouras'], 'url': 'http://arxiv.org/abs/0806.0519v1'}, {'title': 'Towards sustainable transport: wireless detection of passenger trips on\\n  public transport buses', 'authors': ['Vassilis Kostakos'], 'url': 'http://arxiv.org/abs/0806.0874v4'}, {'title': 'Policy and Legal Challenges of Virtual Worlds and Social Network Sites', 'authors': ['Holger M. Kienle', 'Andreas Lober', 'Hausi A. Müller'], 'url': 'http://arxiv.org/abs/0808.1343v1'}, {'title': 'A Simple E-Voting Protocol', 'authors': ['Frederic Connes'], 'url': 'http://arxiv.org/abs/0808.2431v1'}, {'title': 'Emergency Centre Organization and Automated Triage System', 'authors': ['Dan Golding', 'Linda Wilson', 'Tshilidzi Marwala'], 'url': 'http://arxiv.org/abs/0810.3671v1'}, {'title': 'MMOGs as Social Experiments: the Case of Environmental Laws', 'authors': ['Joost Broekens'], 'url': 'http://arxiv.org/abs/0811.0709v1'}, {'title': \"Teacher's Evaluation - a Component of Quality Assessment System\", 'authors': ['Tiberiu Marius Karnyanszky', 'Laurentiu Dan Lacrama', 'Lucian Luca', 'Ioana Iacob'], 'url': 'http://arxiv.org/abs/0903.0519v1'}, {'title': \"Expert Software for the Determination of Juvenile People's Obesity\", 'authors': ['Tiberiu Marius Karnyanszky', 'Corina Musuroi', 'Carla Amira Karnyanszky'], 'url': 'http://arxiv.org/abs/0903.0572v1'}, {'title': 'Expert System for Quality Assessment in \"Tibiscus\" University', 'authors': ['Catalin Tuican', 'Tiberiu Marius Karnyanszky', 'Bogdan Ioan Selariu'], 'url': 'http://arxiv.org/abs/0903.0588v1'}, {'title': \"L'entreprise franco-roumaine face au Internet\", 'authors': ['Diana Sophia Codat'], 'url': 'http://arxiv.org/abs/0903.0992v2'}, {'title': 'Application for Evaluation of the Professional Competencies of the\\n  Teaching Staff', 'authors': ['Ovidiu Crista', 'Tiberiu Marius Karnyanszky'], 'url': 'http://arxiv.org/abs/0903.1061v1'}, {'title': \"What Do Family Caregivers of Alzheimer's Disease Patients Desire in\\n  Smart Home Technologies?\", 'authors': ['Vincent Rialle', 'Catherine Ollivet', 'Carole Guigui', 'Christian Hervé'], 'url': 'http://arxiv.org/abs/0904.0437v1'}, {'title': 'Where are your Manners? Sharing Best Community Practices in the Web 2.0', 'authors': ['Angelo Di Iorio', 'Fabio Vitali', 'Davide Rossi', 'Stefano Zacchiroli'], 'url': 'http://arxiv.org/abs/0905.2509v1'}, {'title': 'Structure of Heterogeneous Networks', 'authors': ['Rumi Ghosh', 'Kristina Lerman'], 'url': 'http://arxiv.org/abs/0906.2212v1'}, {'title': \"Activités collectives et instrumentation. Étude de pratiques dans\\n  l'enseignement supérieur\", 'authors': ['Christine Michel', 'Sebastien George', 'Elise Garrot'], 'url': 'http://arxiv.org/abs/0906.3084v1'}, {'title': \"Fracture numérique chez les seniors du 4eme age. Observation d'une\\n  acculturation technique\", 'authors': ['Christine Michel', 'Marc-Eric Bobillier-Chaumon', 'Franck Tarpin-Bernard'], 'url': 'http://arxiv.org/abs/0906.3101v1'}, {'title': 'Dispositif de supervision pour les tuteurs impliqués dans un\\n  apprentissage à la gestion de projets', 'authors': ['Christine Michel'], 'url': 'http://arxiv.org/abs/0906.4995v1'}, {'title': \"Démarche d'évaluation de l'usage et des répercussions\\n  psychosociales d'un environnement STIC sur une population de personnes\\n  âgées en résidence médicalisée\", 'authors': ['Christine Michel', 'Marc-Eric Bobillier-Chaumon', 'Véronique Cohen-Montandreau', 'Franck Tarpin-Bernard'], 'url': 'http://arxiv.org/abs/0907.0542v1'}, {'title': 'Foundations for a Developmental State: A case for technical education', 'authors': ['Tshilidzi Marwala'], 'url': 'http://arxiv.org/abs/0907.2019v1'}, {'title': 'Exploring Peer Review in the Computer Science Classroom', 'authors': ['Scott Turner', 'Manuel A. Perez-Quinones'], 'url': 'http://arxiv.org/abs/0907.3456v1'}, {'title': 'Intelligent Advisory System for Supporting University Managers in Law', 'authors': ['Atta E. E. Elalfi', 'M. E. ElAlami'], 'url': 'http://arxiv.org/abs/0908.0124v1'}, {'title': 'Vulnerability analysis of three remote voting methods', 'authors': ['Chantal Enguehard', 'Rémi Lehn'], 'url': 'http://arxiv.org/abs/0908.1059v1'}, {'title': 'Untangling the Web of E-Research: Towards a Sociology of Online\\n  Knowledge', 'authors': ['Eric T. Meyer', 'Ralph Schroeder'], 'url': 'http://arxiv.org/abs/0908.2032v1'}, {'title': 'Predictors Of Java Programming Self Efficacy Among Engineering Students\\n  In A Nigerian University', 'authors': ['Philip Olu Jegede'], 'url': 'http://arxiv.org/abs/0909.0074v1'}, {'title': 'A Study on the Factors That Influence the Consumers Trust on Ecommerce\\n  Adoption', 'authors': ['Yi Yi Thaw', 'Ahmad Kamil Mahmood', 'P. Dhanapal Durai Dominic'], 'url': 'http://arxiv.org/abs/0909.1145v1'}, {'title': 'The Role of Spreadsheets in the Allied Irish Bank / Allfirst Currency\\n  Trading Fraud', 'authors': ['Raymond J. Butler'], 'url': 'http://arxiv.org/abs/0910.2048v1'}, {'title': 'An empirical study of spatial and transpatial social networks using\\n  Bluetooth and Facebook', 'authors': ['Vassilis Kostakos'], 'url': 'http://arxiv.org/abs/0910.4292v1'}, {'title': 'Knowledge Management Concepts For Training By Project An observation of\\n  the case of project management education', 'authors': ['Christine Michel', 'Patrick Prevot'], 'url': 'http://arxiv.org/abs/0911.0285v1'}, {'title': 'Meshat: Monitoring and Experience Sharing Tool for Project-Based\\n  Learning', 'authors': ['Christine Michel', 'Elise Garrot-Lavoué'], 'url': 'http://arxiv.org/abs/0911.0310v1'}, {'title': 'Technology Integration around the Geographic Information: A State of the\\n  Art', 'authors': ['Rafael Ponce-Medellin', 'Gabriel Gonzalez-Serna', 'Rocio Vargas', 'Lirio Ruiz'], 'url': 'http://arxiv.org/abs/0911.0909v1'}, {'title': 'Managing Innovation and Technology in Developing Countries', 'authors': ['Murad Ali', 'Sana Ullah', 'Pervez Khan'], 'url': 'http://arxiv.org/abs/0911.1514v1'}, {'title': 'Applicability of Telemedicine in Bangladesh: Current Status and Future\\n  Prospects', 'authors': ['Ahasanun Nessa', 'M. A. Ameen', 'Sana Ullah', 'Kyung Sup Kwak'], 'url': 'http://arxiv.org/abs/0911.1520v1'}, {'title': 'Modeling public mood and emotion: Twitter sentiment and socio-economic\\n  phenomena', 'authors': ['Johan Bollen', 'Alberto Pepe', 'Huina Mao'], 'url': 'http://arxiv.org/abs/0911.1583v1'}, {'title': \"Gouverner la standardisation par les changements d'arene. Le cas du XML\", 'authors': ['Pablo Andres Diaz', 'Francois-Xavier Dudouet', 'Jean-Christophe Graz', 'Benjamin Nguyen', 'Antoine Vion'], 'url': 'http://arxiv.org/abs/0912.0898v1'}, {'title': 'Educational Objectives Of Different Laboratory Types: A Comparative\\n  Study', 'authors': ['Yasser . H. Elawady', 'A. S. Tolba'], 'url': 'http://arxiv.org/abs/0912.0932v1'}, {'title': 'Approaches for user profile Investigation in Orkut Social Network', 'authors': ['Rajni Ranjan Singh', 'Deepak Singh Tomar'], 'url': 'http://arxiv.org/abs/0912.1008v1'}, {'title': 'Open Access, Intellectual Property, and How Biotechnology Becomes a New\\n  Software Science', 'authors': ['Fionn Murtagh'], 'url': 'http://arxiv.org/abs/0912.1262v1'}, {'title': 'ICT in Universities of the Western Himalayan Region in India: Status,\\n  Performance- An Assessment', 'authors': ['D. Sharma', 'V. Singh'], 'url': 'http://arxiv.org/abs/0912.1839v1'}, {'title': 'Application of Radial Basis Network Model for HIV/AIDs Regimen\\n  Specifications', 'authors': ['P. Balasubramanie', 'M. Lilly Florence'], 'url': 'http://arxiv.org/abs/0912.3926v1'}, {'title': 'Using Design Sketch to Teach Bubble Sort in High School', 'authors': ['Chih-Hao Liu', 'Yi-Wen Jiu', 'Jason Jen-Yen Chen'], 'url': 'http://arxiv.org/abs/0912.3955v1'}, {'title': \"RFID et nouvelles technologies de communication; enjeux économiques\\n  incontournables et problèmes d'éthique RFID and new communication\\n  technologies - economic challenges and ethic problems\", 'authors': ['André Thomas'], 'url': 'http://arxiv.org/abs/1001.0453v1'}, {'title': \"Il rapporto tra ICT e PMI italiane e le problematiche\\n  economico-organizzative dell'OS\", 'authors': ['Laura A. Ripamonti'], 'url': 'http://arxiv.org/abs/1001.1232v1'}, {'title': 'Internal Location Based System For Mobile Devices Using Passive RFID And\\n  Wireless Technology', 'authors': ['A. D. Potgantwar', 'Vijay M. Wadhai'], 'url': 'http://arxiv.org/abs/1001.2258v2'}, {'title': 'Information criminality - a phenomenon met within the informatics field', 'authors': ['C. Filote', 'G. Nemtoi'], 'url': 'http://arxiv.org/abs/1001.3484v1'}, {'title': 'Enhancing Fine Motor Skills of Wards with Special Needs Using Cluster\\n  Model of Cognition', 'authors': ['T. R. Gopalakrishnan Nair', 'N. Sowjanya Rao', 'Ananda Bukkambudhi'], 'url': 'http://arxiv.org/abs/1001.3748v1'}, {'title': 'Approaches to Curriculum and Teaching Materials to Bring Out Better\\n  Skilled Software Engineers-An Indian Perspective', 'authors': ['H. A. Padmini', 'A. Keshav Bharadwaj', 'T. R. Gopalakrishnan Nair'], 'url': 'http://arxiv.org/abs/1001.3932v1'}, {'title': 'The Privacy Coach: Supporting customer privacy in the Internet of Things', 'authors': ['Gerben Broenink', 'Jaap-Henk Hoepman', \"Christian van 't Hof\", 'Rob van Kranenburg', 'David Smits', 'Tijmen Wisman'], 'url': 'http://arxiv.org/abs/1001.4459v1'}, {'title': 'Towards a participatory E-learning 2.0 A new E-learning focused on\\n  learners and validation of the content', 'authors': ['Boubker Sbihi', 'Kamal Eddine El Kadiri'], 'url': 'http://arxiv.org/abs/1001.4738v1'}, {'title': 'Individual focus and knowledge contribution', 'authors': ['Lada A. Adamic', 'Xiao Wei', 'Jiang Yang', 'Sean Gerrish', 'Kevin K. Nam', 'Gavin S. Clarkson'], 'url': 'http://arxiv.org/abs/1002.0561v1'}, {'title': 'The Design of Circuit-Measuring Collaborative Learning System with\\n  Embedded Broker', 'authors': ['Fu-Chien Kao', 'Siang-Ru Wang', 'Ting-Hao Huang'], 'url': 'http://arxiv.org/abs/1002.1181v1'}, {'title': 'The Structure and Dynamics of Co-Citation Clusters: A\\n  Multiple-Perspective Co-Citation Analysis', 'authors': ['Chaomei Chen', 'Fidelia Ibekwe-SanJuan', 'Jianhua Hou'], 'url': 'http://arxiv.org/abs/1002.1985v1'}, {'title': 'Reaching the Unreached A Role of ICT in Sustainable Rural Development', 'authors': ['S. K. Nayak', 'S. B. Thorat', 'N. V. Kalyankar'], 'url': 'http://arxiv.org/abs/1002.2134v1'}, {'title': 'Local ePolitics Reputation Case Study', 'authors': ['Jean-Marc Seigneur'], 'url': 'http://arxiv.org/abs/1002.2297v1'}, {'title': 'The Framework for Implementing ECommerce: The Role of Bank and Telecom\\n  in Bangladesh', 'authors': ['Ijaj Md. Laisuzzaman', 'Nahid Imran', 'Abdullah Al Nahid', 'Md. Ziaul', 'Md. Abdul Alim'], 'url': 'http://arxiv.org/abs/1002.3333v1'}, {'title': \"The government of state's power bodies by means of the Internet\", 'authors': ['L. Bercea', 'G. Nemtoi', 'C. Ungureanu'], 'url': 'http://arxiv.org/abs/1002.3992v1'}, {'title': 'E-Courseware Design and Implementation Issues and Strategies', 'authors': ['Shakeel Ahmad', 'Adli Mustafa', 'Zahid Awan', 'Bashir Ahmad', 'Najeebullah', 'Arjamand Bano'], 'url': 'http://arxiv.org/abs/1002.3998v1'}, {'title': 'Profile Popularity in a Business-oriented Online Social Network', 'authors': ['Thorsten Strufe'], 'url': 'http://arxiv.org/abs/1003.0466v1'}, {'title': 'Graphically E-Learning introduction and its benefits in Virtual Learning', 'authors': ['A. Daneshmand Malayeri', 'J. Abdollahi', 'R. Rezaei'], 'url': 'http://arxiv.org/abs/1003.3094v1'}, {'title': 'New designing of E-Learning systems with using network learning', 'authors': ['Amin Daneshmand Malayeri', 'Jalal Abdollahi'], 'url': 'http://arxiv.org/abs/1003.3097v1'}, {'title': \"Design and Implementation of an Intelligent Educational Model Based on\\n  Personality and Learner's Emotion\", 'authors': ['Somayeh Fatahi', 'Nasser Ghasem-Aghaee'], 'url': 'http://arxiv.org/abs/1004.1224v2'}, {'title': 'GIS: Geographic Information System An application for socio-economical\\n  data collection for rural area', 'authors': ['S. K. Nayak', 'S. B. Thorat', 'N. V. Kalyankar'], 'url': 'http://arxiv.org/abs/1004.1793v1'}]\n"
     ]
    }
   ],
   "source": [
    "import urllib, urllib.request\n",
    "import urllib.request as ur\n",
    "import feedparser\n",
    "import pickle\n",
    "\n",
    "base_url= 'http://export.arxiv.org/api/query?'\n",
    "search_query= 'search_query=cat:cs.CY&start=0&max_results=200'\n",
    "\n",
    "url= ur.urlopen(base_url+search_query)\n",
    "response= url.read()\n",
    "values= feedparser.parse(response)\n",
    "\n",
    "\n",
    "data_list=[]\n",
    "for entry in values.entries:\n",
    "    title=entry.title\n",
    "    link= entry.id\n",
    "    n= entry.authors\n",
    "    names= [d.get('name') for d in n]\n",
    "    data= {'title':title, 'authors':names, 'url':link }\n",
    "    data_list.append(data)\n",
    "print(data_list)\n",
    "    \n",
    "with open('scraping_result.pkl', 'wb') as f:\n",
    "    pickle.dump(data_list, f)\n",
    "f.close()"
   ]
  },
  {
   "cell_type": "code",
   "execution_count": 8,
   "id": "13393063",
   "metadata": {
    "deletable": false,
    "editable": false,
    "nbgrader": {
     "cell_type": "code",
     "checksum": "a24a8ecb5c00b7a230f1536e1032db2e",
     "grade": true,
     "grade_id": "cell-eb1c8710173e94df",
     "locked": true,
     "points": 1,
     "schema_version": 3,
     "solution": false,
     "task": false
    }
   },
   "outputs": [],
   "source": [
    "# Check if keys exists in dictionary\n",
    "assert 'title' in data_list[0], \"Key 'title' not found in dictionary\"\n",
    "assert 'authors' in data_list[0], \"Key 'author' not found in dictionary\"\n",
    "assert 'url' in data_list[0], \"Key 'url' not found in dictionary\""
   ]
  },
  {
   "cell_type": "code",
   "execution_count": null,
   "id": "4ac684d5-9ff9-48f2-81bf-1aa4e18ade2b",
   "metadata": {
    "deletable": false,
    "editable": false,
    "nbgrader": {
     "cell_type": "code",
     "checksum": "cb97b7c9455088e95da62d87f93f0237",
     "grade": true,
     "grade_id": "cell-a20385a62f48c168",
     "locked": true,
     "points": 1,
     "schema_version": 3,
     "solution": false,
     "task": false
    }
   },
   "outputs": [],
   "source": []
  },
  {
   "cell_type": "markdown",
   "id": "d989cacd-dff0-456e-8967-2dbe08362fc0",
   "metadata": {},
   "source": [
    "## 3. Use Genderize.io to identify author gender\n",
    "\n",
    "The next step is to identify the gender of the authors. To do so, we will use the free API genderdize.io. \n",
    "\n",
    "1. Go to https://genderize.io/ and read the API documnentation.\n",
    "2. Do you need to register to use it? Do you need an API key? \n",
    "3. How do you call the API? What parameters do you need to send? \n",
    "4. What rate limiting is used? How long do you need to wait between calls?\n",
    "\n",
    "You will use what you learned to carry out the following tasks.\n"
   ]
  },
  {
   "cell_type": "markdown",
   "id": "d065292a-42e8-4069-8dfd-4d6a1db353fa",
   "metadata": {},
   "source": [
    "#### Task 1: _identify_gender()_\n",
    "Write a function _identify_gender(first_name)_ that takes a name, and uses the API to guess the gender. The function should send a request to genderize.io, and parse the resulting json to a dict. The function should return a dict with the data provided by the API."
   ]
  },
  {
   "cell_type": "code",
   "execution_count": 9,
   "id": "d01c681e-6bce-416d-9c45-03810e9c2376",
   "metadata": {
    "deletable": false,
    "nbgrader": {
     "cell_type": "code",
     "checksum": "e8699ffe64f521fe51e152a3c4baae18",
     "grade": false,
     "grade_id": "cell-c02e3ed6f4cf8078",
     "locked": false,
     "schema_version": 3,
     "solution": true,
     "task": false
    }
   },
   "outputs": [
    {
     "name": "stdout",
     "output_type": "stream",
     "text": [
      "{'count': 14512, 'name': 'Sasha', 'gender': 'female', 'probability': 0.52}\n"
     ]
    }
   ],
   "source": [
    "import json\n",
    "import requests\n",
    "\n",
    "def identify_gender(first_name):\n",
    "    base= 'https://api.genderize.io?'\n",
    "\n",
    "    url= f'{base}name={first_name}'\n",
    "    result=requests.get(url)\n",
    "    \n",
    "    json_str = result.text\n",
    "    details= json.loads(json_str)\n",
    "    return details\n",
    "\n",
    "# Test\n",
    "print(identify_gender(\"Sasha\"))"
   ]
  },
  {
   "cell_type": "code",
   "execution_count": null,
   "id": "7ee7dc7f-c47f-4fb1-85db-096a46d5d5c7",
   "metadata": {
    "deletable": false,
    "editable": false,
    "nbgrader": {
     "cell_type": "code",
     "checksum": "05b69c0a6698acd0a17d3faae33a79f8",
     "grade": true,
     "grade_id": "cell-ed3a813912da7ef2",
     "locked": true,
     "points": 1,
     "schema_version": 3,
     "solution": false,
     "task": false
    }
   },
   "outputs": [],
   "source": []
  },
  {
   "cell_type": "markdown",
   "id": "d03ef969-2f1e-4ebf-bd1f-3dd0657f2e69",
   "metadata": {},
   "source": [
    "#### Task 2: Identify gender of all authors\n",
    "\n",
    "Your task is now to use your new function to identify the genders of all authors that you previously scraped. \n",
    "\n",
    "To do so, you first need to extract the first name of each author. You need to iterate over these names and use your function to identify the gender of the author.\n",
    "\n",
    "Your result should be a dataframe with the following columns:\n",
    "\n",
    "- article_url | author_full_name | first_name | author_order | estimated_gender | gender_probability\n",
    "\n",
    "Author_order should be a number specifying where the author was in the author list for the publication (e.g., 0 = first author, 1 = second author...) _Estimated_gender_ should contain the API response on gender, and _gender_probability_ the certainty of the gender, according to the API.\n",
    "\n",
    "Note:\n",
    "- You will need to transform your dict to the dataframe shown above, with one author per line. (This means that each URL will be associated to multiple author names.)\n",
    "- Make sure that you respect the rate limiting of the API. \n",
    "- Make sure that you handle exceptions and that your function continues \n",
    "- Note that you get a maximum of 1,000 free calls per day, so you need to make sure that you do not waste your API calls!\n",
    "- The API may not have all names stored. For these names, store a _np.nan_ value as the gender.\n",
    "\n",
    "Pickle the resulting dataframe with the name: 'author_gender.df.pkl'"
   ]
  },
  {
   "cell_type": "code",
   "execution_count": 10,
   "id": "1db8df5b",
   "metadata": {
    "deletable": false,
    "nbgrader": {
     "cell_type": "code",
     "checksum": "7a2558664a48ddbac7c92c35c0c14e2b",
     "grade": false,
     "grade_id": "cell-b9581c1efe1807cf",
     "locked": false,
     "schema_version": 3,
     "solution": true,
     "task": false
    }
   },
   "outputs": [],
   "source": [
    "\n",
    "import pickle\n",
    "import pandas as pd\n",
    "import requests\n",
    "import numpy as np\n",
    "import time\n",
    "\n",
    "# Load your scraped data\n",
    "with open('scraping_result.pkl', 'rb') as f:\n",
    "    data_list = pickle.load(f)\n",
    "\n",
    "#extract author name and article url from data\n",
    "authors= [x['authors'] for x in data_list]\n",
    "art_url= [x['url'] for x in data_list]\n",
    "\n",
    "#create a list to show the order of authors and use \n",
    "#enumarate functions to get order\n",
    "order_authors=[]\n",
    "for outer_index, inner_list in enumerate(authors, start=1):\n",
    "    for inner_index, item in enumerate(inner_list, start=1):\n",
    "        order_authors.append(inner_index)\n",
    "\n",
    "#create dataframe with author names and url\n",
    "df1= pd.DataFrame({'article_url':art_url, 'author_full_name': authors})\n",
    "df2= df1.explode('author_full_name', ignore_index=True)\n",
    "\n",
    "\n",
    "names= df2['author_full_name'].tolist()\n",
    "\n",
    "#extract first name of authors\n",
    "f_name= [x.split()[0] if len(x.split()) >=1 else np.NaN for x in names]\n",
    "\n",
    "\n",
    "#apply gender function and extract gender with probability\n",
    "gender= [identify_gender(x)for x in f_name]\n",
    "\n",
    "estimated_g= [x['gender'] for x in gender] \n",
    "prob= [x['probability'] if x['probability'] >0.0 else np.NaN for x in gender] \n",
    "\n",
    "#create final dataframe and store it in a pickle file\n",
    "df= df2.assign(first_name= f_name, author_order= order_authors, estimated_gender= estimated_g, gender_probability= prob)\n",
    "\n",
    "\n",
    "df.to_pickle('author_gender.df.pkl')\n",
    "        "
   ]
  },
  {
   "cell_type": "code",
   "execution_count": 11,
   "id": "b002fc50",
   "metadata": {
    "deletable": false,
    "editable": false,
    "nbgrader": {
     "cell_type": "code",
     "checksum": "94b2428a7e2b93e5c2e81bca2122b796",
     "grade": true,
     "grade_id": "cell-85d226433e71226b",
     "locked": true,
     "points": 1,
     "schema_version": 3,
     "solution": false,
     "task": false
    }
   },
   "outputs": [
    {
     "data": {
      "text/html": [
       "<div>\n",
       "<style scoped>\n",
       "    .dataframe tbody tr th:only-of-type {\n",
       "        vertical-align: middle;\n",
       "    }\n",
       "\n",
       "    .dataframe tbody tr th {\n",
       "        vertical-align: top;\n",
       "    }\n",
       "\n",
       "    .dataframe thead th {\n",
       "        text-align: right;\n",
       "    }\n",
       "</style>\n",
       "<table border=\"1\" class=\"dataframe\">\n",
       "  <thead>\n",
       "    <tr style=\"text-align: right;\">\n",
       "      <th></th>\n",
       "      <th>article_url</th>\n",
       "      <th>author_full_name</th>\n",
       "      <th>first_name</th>\n",
       "      <th>author_order</th>\n",
       "      <th>estimated_gender</th>\n",
       "      <th>gender_probability</th>\n",
       "    </tr>\n",
       "  </thead>\n",
       "  <tbody>\n",
       "    <tr>\n",
       "      <th>0</th>\n",
       "      <td>http://arxiv.org/abs/cs/9809018v1</td>\n",
       "      <td>Lorrie Faith Cranor</td>\n",
       "      <td>Lorrie</td>\n",
       "      <td>1</td>\n",
       "      <td>female</td>\n",
       "      <td>1.00</td>\n",
       "    </tr>\n",
       "    <tr>\n",
       "      <th>1</th>\n",
       "      <td>http://arxiv.org/abs/cs/9809018v1</td>\n",
       "      <td>Rebecca N. Wright</td>\n",
       "      <td>Rebecca</td>\n",
       "      <td>2</td>\n",
       "      <td>female</td>\n",
       "      <td>1.00</td>\n",
       "    </tr>\n",
       "    <tr>\n",
       "      <th>2</th>\n",
       "      <td>http://arxiv.org/abs/cs/9903013v1</td>\n",
       "      <td>Tapas Kumar Das</td>\n",
       "      <td>Tapas</td>\n",
       "      <td>1</td>\n",
       "      <td>male</td>\n",
       "      <td>0.98</td>\n",
       "    </tr>\n",
       "    <tr>\n",
       "      <th>3</th>\n",
       "      <td>http://arxiv.org/abs/cs/9909008v2</td>\n",
       "      <td>Rob Kling</td>\n",
       "      <td>Rob</td>\n",
       "      <td>1</td>\n",
       "      <td>male</td>\n",
       "      <td>1.00</td>\n",
       "    </tr>\n",
       "    <tr>\n",
       "      <th>4</th>\n",
       "      <td>http://arxiv.org/abs/cs/9909008v2</td>\n",
       "      <td>Geoffrey McKim</td>\n",
       "      <td>Geoffrey</td>\n",
       "      <td>2</td>\n",
       "      <td>male</td>\n",
       "      <td>1.00</td>\n",
       "    </tr>\n",
       "    <tr>\n",
       "      <th>5</th>\n",
       "      <td>http://arxiv.org/abs/cs/0001011v1</td>\n",
       "      <td>Lorrie Faith Cranor</td>\n",
       "      <td>Lorrie</td>\n",
       "      <td>1</td>\n",
       "      <td>female</td>\n",
       "      <td>1.00</td>\n",
       "    </tr>\n",
       "    <tr>\n",
       "      <th>6</th>\n",
       "      <td>http://arxiv.org/abs/cs/0005007v1</td>\n",
       "      <td>Rob Kling</td>\n",
       "      <td>Rob</td>\n",
       "      <td>1</td>\n",
       "      <td>male</td>\n",
       "      <td>1.00</td>\n",
       "    </tr>\n",
       "    <tr>\n",
       "      <th>7</th>\n",
       "      <td>http://arxiv.org/abs/cs/0005007v1</td>\n",
       "      <td>Geoffrey McKim</td>\n",
       "      <td>Geoffrey</td>\n",
       "      <td>2</td>\n",
       "      <td>male</td>\n",
       "      <td>1.00</td>\n",
       "    </tr>\n",
       "    <tr>\n",
       "      <th>8</th>\n",
       "      <td>http://arxiv.org/abs/cs/0005007v1</td>\n",
       "      <td>Joanna Fortuna</td>\n",
       "      <td>Joanna</td>\n",
       "      <td>3</td>\n",
       "      <td>female</td>\n",
       "      <td>0.99</td>\n",
       "    </tr>\n",
       "    <tr>\n",
       "      <th>9</th>\n",
       "      <td>http://arxiv.org/abs/cs/0005007v1</td>\n",
       "      <td>Adam King</td>\n",
       "      <td>Adam</td>\n",
       "      <td>4</td>\n",
       "      <td>male</td>\n",
       "      <td>1.00</td>\n",
       "    </tr>\n",
       "  </tbody>\n",
       "</table>\n",
       "</div>"
      ],
      "text/plain": [
       "                         article_url     author_full_name first_name  \\\n",
       "0  http://arxiv.org/abs/cs/9809018v1  Lorrie Faith Cranor     Lorrie   \n",
       "1  http://arxiv.org/abs/cs/9809018v1    Rebecca N. Wright    Rebecca   \n",
       "2  http://arxiv.org/abs/cs/9903013v1      Tapas Kumar Das      Tapas   \n",
       "3  http://arxiv.org/abs/cs/9909008v2            Rob Kling        Rob   \n",
       "4  http://arxiv.org/abs/cs/9909008v2       Geoffrey McKim   Geoffrey   \n",
       "5  http://arxiv.org/abs/cs/0001011v1  Lorrie Faith Cranor     Lorrie   \n",
       "6  http://arxiv.org/abs/cs/0005007v1            Rob Kling        Rob   \n",
       "7  http://arxiv.org/abs/cs/0005007v1       Geoffrey McKim   Geoffrey   \n",
       "8  http://arxiv.org/abs/cs/0005007v1       Joanna Fortuna     Joanna   \n",
       "9  http://arxiv.org/abs/cs/0005007v1            Adam King       Adam   \n",
       "\n",
       "   author_order estimated_gender  gender_probability  \n",
       "0             1           female                1.00  \n",
       "1             2           female                1.00  \n",
       "2             1             male                0.98  \n",
       "3             1             male                1.00  \n",
       "4             2             male                1.00  \n",
       "5             1           female                1.00  \n",
       "6             1             male                1.00  \n",
       "7             2             male                1.00  \n",
       "8             3           female                0.99  \n",
       "9             4             male                1.00  "
      ]
     },
     "metadata": {},
     "output_type": "display_data"
    }
   ],
   "source": [
    "assert 'article_url' in df.columns, \"article_url column is missing\"\n",
    "assert 'author_full_name' in df.columns, \"author_full_name column is missing\"\n",
    "assert 'first_name' in df.columns, \"first_name column is missing\"\n",
    "assert 'author_order' in df.columns, \"author_order column is missing\"\n",
    "assert 'estimated_gender' in df.columns, \"estimated_gender column is missing\"\n",
    "assert 'gender_probability' in df.columns, \"gender_probability column is missing\"\n",
    "\n",
    "with open('author_gender.df.pkl', 'wb') as f:\n",
    "    pickle.dump(df, f)\n",
    "\n",
    "display(df.head(10))"
   ]
  },
  {
   "cell_type": "code",
   "execution_count": null,
   "id": "04701544-19ce-4f09-b6fc-06d1cae74f58",
   "metadata": {
    "deletable": false,
    "editable": false,
    "nbgrader": {
     "cell_type": "code",
     "checksum": "9f43b38f6f15f75ac827995ace4fe885",
     "grade": true,
     "grade_id": "cell-c2e95f57fe249bfe",
     "locked": true,
     "points": 1,
     "schema_version": 3,
     "solution": false,
     "task": false
    }
   },
   "outputs": [],
   "source": []
  },
  {
   "cell_type": "markdown",
   "id": "3efaadaf-c7cf-4287-88a4-27b2bdf846e4",
   "metadata": {},
   "source": [
    "## 4. Analyze gender distribution and authorship order\n",
    "\n",
    "Now that you have gathered the necessary data, you will use this data to answer some research questions about gender equality in CSS research. Note that in calculating this, you need to handle that the API may have failed to identify the gender of some authors.\n",
    "\n",
    "1. What fraction of the authors included are women? \n",
    "2. What happens to this fraction if you only include authors for which the gender_probability is higher than 80%? \n",
    "3. Being the first or single author on a research paper is an important status signal among researchers: it often means that you made the most work. What fraction of the first or single authors are women? \n",
    "4. Being the _last_ author on a research paper with _three or more authors_ is also an important status signal: it tends to mean that you were the one to acquire funding or lead the lab. What fraction of the last-authors on papers with three or more author are women?\n"
   ]
  },
  {
   "cell_type": "code",
   "execution_count": 3,
   "id": "6cbbcb4f",
   "metadata": {
    "deletable": false,
    "nbgrader": {
     "cell_type": "code",
     "checksum": "e46a8a2f7e1cabdb0061c0d4c9fc86f2",
     "grade": true,
     "grade_id": "cell-3a0cd012a322701a",
     "locked": false,
     "points": 1,
     "schema_version": 3,
     "solution": true,
     "task": false
    }
   },
   "outputs": [
    {
     "data": {
      "text/html": [
       "<div>\n",
       "<style scoped>\n",
       "    .dataframe tbody tr th:only-of-type {\n",
       "        vertical-align: middle;\n",
       "    }\n",
       "\n",
       "    .dataframe tbody tr th {\n",
       "        vertical-align: top;\n",
       "    }\n",
       "\n",
       "    .dataframe thead th {\n",
       "        text-align: right;\n",
       "    }\n",
       "</style>\n",
       "<table border=\"1\" class=\"dataframe\">\n",
       "  <thead>\n",
       "    <tr style=\"text-align: right;\">\n",
       "      <th></th>\n",
       "      <th>article_url</th>\n",
       "      <th>author_full_name</th>\n",
       "      <th>first_name</th>\n",
       "      <th>author_order</th>\n",
       "      <th>estimated_gender</th>\n",
       "      <th>gender_probability</th>\n",
       "    </tr>\n",
       "  </thead>\n",
       "  <tbody>\n",
       "    <tr>\n",
       "      <th>0</th>\n",
       "      <td>http://arxiv.org/abs/cs/9809018v1</td>\n",
       "      <td>Lorrie Faith Cranor</td>\n",
       "      <td>Lorrie</td>\n",
       "      <td>1</td>\n",
       "      <td>female</td>\n",
       "      <td>1.00</td>\n",
       "    </tr>\n",
       "    <tr>\n",
       "      <th>1</th>\n",
       "      <td>http://arxiv.org/abs/cs/9809018v1</td>\n",
       "      <td>Rebecca N. Wright</td>\n",
       "      <td>Rebecca</td>\n",
       "      <td>2</td>\n",
       "      <td>female</td>\n",
       "      <td>1.00</td>\n",
       "    </tr>\n",
       "    <tr>\n",
       "      <th>2</th>\n",
       "      <td>http://arxiv.org/abs/cs/9903013v1</td>\n",
       "      <td>Tapas Kumar Das</td>\n",
       "      <td>Tapas</td>\n",
       "      <td>1</td>\n",
       "      <td>male</td>\n",
       "      <td>0.98</td>\n",
       "    </tr>\n",
       "    <tr>\n",
       "      <th>3</th>\n",
       "      <td>http://arxiv.org/abs/cs/9909008v2</td>\n",
       "      <td>Rob Kling</td>\n",
       "      <td>Rob</td>\n",
       "      <td>1</td>\n",
       "      <td>male</td>\n",
       "      <td>1.00</td>\n",
       "    </tr>\n",
       "    <tr>\n",
       "      <th>4</th>\n",
       "      <td>http://arxiv.org/abs/cs/9909008v2</td>\n",
       "      <td>Geoffrey McKim</td>\n",
       "      <td>Geoffrey</td>\n",
       "      <td>2</td>\n",
       "      <td>male</td>\n",
       "      <td>1.00</td>\n",
       "    </tr>\n",
       "    <tr>\n",
       "      <th>...</th>\n",
       "      <td>...</td>\n",
       "      <td>...</td>\n",
       "      <td>...</td>\n",
       "      <td>...</td>\n",
       "      <td>...</td>\n",
       "      <td>...</td>\n",
       "    </tr>\n",
       "    <tr>\n",
       "      <th>370</th>\n",
       "      <td>http://arxiv.org/abs/1004.1224v2</td>\n",
       "      <td>Somayeh Fatahi</td>\n",
       "      <td>Somayeh</td>\n",
       "      <td>1</td>\n",
       "      <td>female</td>\n",
       "      <td>0.99</td>\n",
       "    </tr>\n",
       "    <tr>\n",
       "      <th>371</th>\n",
       "      <td>http://arxiv.org/abs/1004.1224v2</td>\n",
       "      <td>Nasser Ghasem-Aghaee</td>\n",
       "      <td>Nasser</td>\n",
       "      <td>2</td>\n",
       "      <td>male</td>\n",
       "      <td>0.99</td>\n",
       "    </tr>\n",
       "    <tr>\n",
       "      <th>372</th>\n",
       "      <td>http://arxiv.org/abs/1004.1793v1</td>\n",
       "      <td>S. K. Nayak</td>\n",
       "      <td>S.</td>\n",
       "      <td>1</td>\n",
       "      <td>female</td>\n",
       "      <td>0.50</td>\n",
       "    </tr>\n",
       "    <tr>\n",
       "      <th>373</th>\n",
       "      <td>http://arxiv.org/abs/1004.1793v1</td>\n",
       "      <td>S. B. Thorat</td>\n",
       "      <td>S.</td>\n",
       "      <td>2</td>\n",
       "      <td>female</td>\n",
       "      <td>0.50</td>\n",
       "    </tr>\n",
       "    <tr>\n",
       "      <th>374</th>\n",
       "      <td>http://arxiv.org/abs/1004.1793v1</td>\n",
       "      <td>N. V. Kalyankar</td>\n",
       "      <td>N.</td>\n",
       "      <td>3</td>\n",
       "      <td>female</td>\n",
       "      <td>1.00</td>\n",
       "    </tr>\n",
       "  </tbody>\n",
       "</table>\n",
       "<p>375 rows × 6 columns</p>\n",
       "</div>"
      ],
      "text/plain": [
       "                           article_url      author_full_name first_name  \\\n",
       "0    http://arxiv.org/abs/cs/9809018v1   Lorrie Faith Cranor     Lorrie   \n",
       "1    http://arxiv.org/abs/cs/9809018v1     Rebecca N. Wright    Rebecca   \n",
       "2    http://arxiv.org/abs/cs/9903013v1       Tapas Kumar Das      Tapas   \n",
       "3    http://arxiv.org/abs/cs/9909008v2             Rob Kling        Rob   \n",
       "4    http://arxiv.org/abs/cs/9909008v2        Geoffrey McKim   Geoffrey   \n",
       "..                                 ...                   ...        ...   \n",
       "370   http://arxiv.org/abs/1004.1224v2        Somayeh Fatahi    Somayeh   \n",
       "371   http://arxiv.org/abs/1004.1224v2  Nasser Ghasem-Aghaee     Nasser   \n",
       "372   http://arxiv.org/abs/1004.1793v1           S. K. Nayak         S.   \n",
       "373   http://arxiv.org/abs/1004.1793v1          S. B. Thorat         S.   \n",
       "374   http://arxiv.org/abs/1004.1793v1       N. V. Kalyankar         N.   \n",
       "\n",
       "     author_order estimated_gender  gender_probability  \n",
       "0               1           female                1.00  \n",
       "1               2           female                1.00  \n",
       "2               1             male                0.98  \n",
       "3               1             male                1.00  \n",
       "4               2             male                1.00  \n",
       "..            ...              ...                 ...  \n",
       "370             1           female                0.99  \n",
       "371             2             male                0.99  \n",
       "372             1           female                0.50  \n",
       "373             2           female                0.50  \n",
       "374             3           female                1.00  \n",
       "\n",
       "[375 rows x 6 columns]"
      ]
     },
     "metadata": {},
     "output_type": "display_data"
    }
   ],
   "source": [
    "import pandas as pd\n",
    "gender_data= pd.read_pickle(\"author_gender.df.pkl\")\n",
    "display(gender_data)\n"
   ]
  },
  {
   "cell_type": "code",
   "execution_count": 4,
   "metadata": {},
   "outputs": [
    {
     "name": "stdout",
     "output_type": "stream",
     "text": [
      "Fraction of female authors is: 0.27466666666666667\n"
     ]
    }
   ],
   "source": [
    "#Fraction of women atuhors\n",
    "genders= gender_data['estimated_gender']\n",
    "female_nr=gender_data.value_counts(subset=genders)['female']\n",
    "total= len(gender_data)\n",
    "fraction= (female_nr)/(total)\n",
    "print(f'Fraction of female authors is: {fraction}')"
   ]
  },
  {
   "cell_type": "code",
   "execution_count": 5,
   "metadata": {},
   "outputs": [
    {
     "name": "stdout",
     "output_type": "stream",
     "text": [
      "Fraction of female authors when probalbility is over 80%: 0.21866666666666668\n"
     ]
    }
   ],
   "source": [
    "#fraction of females with probability over 80\n",
    "\n",
    "females_80 = gender_data[(gender_data['gender_probability'] > 0.80) & (gender_data['estimated_gender']=='female')]\n",
    "fem= len(females_80)\n",
    "total= len(gender_data)\n",
    "fraction= (fem)/(total)\n",
    "print(f'Fraction of female authors when probalbility is over 80%: {fraction}')"
   ]
  },
  {
   "cell_type": "code",
   "execution_count": 6,
   "metadata": {},
   "outputs": [
    {
     "name": "stdout",
     "output_type": "stream",
     "text": [
      "Fraction of female authors who are first in the articles 0.14933333333333335\n"
     ]
    }
   ],
   "source": [
    "#fraction of females who are first in the article\n",
    "females_order = gender_data[(gender_data['author_order'] ==1) &(gender_data['estimated_gender']=='female')]\n",
    "fem_order= len(females_order)\n",
    "total= len(gender_data)\n",
    "fraction= (fem_order)/(total)\n",
    "print(f'Fraction of female authors who are first in the articles {fraction}')\n"
   ]
  },
  {
   "cell_type": "code",
   "execution_count": 7,
   "metadata": {},
   "outputs": [
    {
     "name": "stdout",
     "output_type": "stream",
     "text": [
      "Fraction of female authors who are last in the article: 0.048\n"
     ]
    }
   ],
   "source": [
    "#fraction of last author being female\n",
    "females_order = gender_data[(gender_data['author_order'] >=3) &(gender_data['estimated_gender']=='female')]\n",
    "fem_order= len(females_order)\n",
    "total= len(gender_data)\n",
    "fraction= (fem_order)/(total)\n",
    "print(f'Fraction of female authors who are last in the article: {fraction}')"
   ]
  },
  {
   "cell_type": "markdown",
   "id": "d8b370f3-4b58-41f0-b615-5aff1c4a3ab6",
   "metadata": {
    "deletable": false,
    "editable": false,
    "nbgrader": {
     "cell_type": "markdown",
     "checksum": "66aa822667d179fcd1119f84e5100ee3",
     "grade": false,
     "grade_id": "cell-906708bcf0e226e3",
     "locked": true,
     "points": 0,
     "schema_version": 3,
     "solution": false,
     "task": true
    }
   },
   "source": [
    "## 5. Reflect on your findings\n",
    "\n",
    "You have now carried out your analysis of the gender distribution in articles in CSS using scraped data. Reflect on your findings and method, and answer each of the following questions in a few sentences.\n",
    "\n",
    "1. What are the implications of the observed gender distribution and author order in CSS? How do these distributions compare with your expectations?\n",
    "2. How accurate do you think your findings are? What are the limitations of determining gender based solely on names? Are there cultural or regional nuances that the API might miss?\n",
    "3. Reflect on the ethical considerations involved in scraping this data. \n"
   ]
  },
  {
   "cell_type": "markdown",
   "id": "27044038-f459-45c7-9a7f-d2cd6d15b18d",
   "metadata": {
    "deletable": false,
    "nbgrader": {
     "cell_type": "markdown",
     "checksum": "253f673902e8de295d8442ad59caa4b8",
     "grade": true,
     "grade_id": "cell-47e469c422287e72",
     "locked": false,
     "points": 2,
     "schema_version": 3,
     "solution": true,
     "task": false
    }
   },
   "source": [
    "YOUR ANSWER HERE:  Women represent a very small percentage of authors. This matches my expectations as I am aware of the gender biases in the research/sceintifc world and the struggle female have to publisht heir researcha nd establish their legitimacy. I think these findings are somewhat accurate, however it is difficult to make a correct assumption by only scraping 200 articles. \n",
    "\n",
    "The limitations of determining gender is that some names can be gender neutral, or people can have names that might be consider common for the oppostie gender. Some ethical considerations include using this data is the fact that we are using authors' names without their consent."
   ]
  },
  {
   "cell_type": "markdown",
   "id": "88d395f6-7186-4239-93db-e3aa75f6abfb",
   "metadata": {},
   "source": [
    "## 6. Scrape the paper abstract\n",
    "\n",
    "Your next task is to get the abstract for each paper. You will use these abstracts in a later exercise in the course, where we will use text analysis to examine whether the content of research papers are a function of the gender of the author. \n",
    "\n",
    "To do so, you need to iterate over the papers that you have already identified, and scrape the abstract from the URL listed. \n",
    "\n",
    "#### Task 1: scrape_abstract()\n",
    "Write a function scrape_abstract(url) that goes to the research paper URL, and scrapes the content of the abstract. The function should return the abstract as a string, and nothing else."
   ]
  },
  {
   "cell_type": "code",
   "execution_count": 2,
   "id": "1a98b5f1-ffd3-4150-a60c-2e738c884956",
   "metadata": {
    "deletable": false,
    "nbgrader": {
     "cell_type": "code",
     "checksum": "ea05833922353eeb9ca3fd40d86801b7",
     "grade": false,
     "grade_id": "cell-b8712361e6327b18",
     "locked": false,
     "schema_version": 3,
     "solution": true,
     "task": false
    }
   },
   "outputs": [
    {
     "name": "stdout",
     "output_type": "stream",
     "text": [
      "\n",
      "Abstract:This guide introduces Large Language Models (LLM) as a highly versatile text analysis method within the social sciences. As LLMs are easy-to-use, cheap, fast, and applicable on a broad range of text analysis tasks, ranging from text annotation and classification to sentiment analysis and critical discourse analysis, many scholars believe that LLMs will transform how we do text analysis. This how-to guide is aimed at students and researchers with limited programming experience, and offers a simple introduction to how LLMs can be used for text analysis in your own research project, as well as advice on best practices. We will go through each of the steps of analyzing textual data with LLMs using Python: installing the software, setting up the API, loading the data, developing an analysis prompt, analyzing the text, and validating the results. As an illustrative example, we will use the challenging task of identifying populism in political texts, and show how LLMs move beyond the existing state-of-the-art.\n",
      "    \n"
     ]
    }
   ],
   "source": [
    "import requests\n",
    "from bs4 import BeautifulSoup\n",
    "\n",
    "def scrape_abstract(url):\n",
    "    response= requests.get(url)\n",
    "    soup= BeautifulSoup(response.text, 'html.parser')\n",
    "    description= soup.find('blockquote')\n",
    "    abstract= (description.text)\n",
    "    \n",
    "    return (abstract)\n",
    "\n",
    "# Test\n",
    "url = \"https://arxiv.org/abs/2307.13106\"\n",
    "print(scrape_abstract(url))\n"
   ]
  },
  {
   "cell_type": "code",
   "execution_count": null,
   "id": "d4466e2b",
   "metadata": {
    "deletable": false,
    "editable": false,
    "nbgrader": {
     "cell_type": "code",
     "checksum": "284598e8243153347beb6d3b0f5691f7",
     "grade": true,
     "grade_id": "cell-862386d3cf70edf2",
     "locked": true,
     "points": 1,
     "schema_version": 3,
     "solution": false,
     "task": false
    }
   },
   "outputs": [],
   "source": []
  },
  {
   "cell_type": "markdown",
   "id": "4783d9a5-b38d-4ccc-9cbe-f2269467e6d8",
   "metadata": {},
   "source": [
    "#### Task 2: Scrape all urls\n",
    "\n",
    "You will now use your function to scrape all the URLs that you collected in step 2.\n",
    "\n",
    "The following will provide instructions for how you can go about this task. However, there are several ways to do this, and you are free to choose your preferred method.\n",
    "\n",
    "Prepare your data:\n",
    "\n",
    "1. Load your list of dicts from step 2 (scraping_result.pkl)\n",
    "2. Use it to create a dataframe. \n",
    "3. Add a column 'scraped' which should be False for all rows, and a column 'abstract' that should be None for all rows.\n",
    "4. Store the dataframe persistently (e.g., by pickling it.)\n",
    "\n",
    "The scraping procedure:\n",
    "\n",
    "1. Load the persitent pickle as dataframe (so that if your computer crashes, the function will continue where you were)\n",
    "2. Repeat the following steps until there are no more rows with scraped == False:\n",
    "3. Fetch a random row with scraped == False\n",
    "4. Go to the URL and scrape the abstract.\n",
    "5. Set abstract column in the dataframe to the resulting abstract, set scraped to True.\n",
    "6. Store the dataframe persistently as a pickle. \n",
    "\n",
    "Remember: \n",
    "- You may use another strategy. However, since you will be scraping many pages, you should expect your scraper to encounter problems along the way. You therefore need to make sure that you regularly store the results persistently.\n",
    "- Make sure to handle any exceptions gracefully.\n",
    "- Be respectful toward the website owners: wait at least one second between each call. \n",
    "\n",
    "Your final result should be a dataframe stored as 'scraped_abstracts.df.pkl', with filled 'abstract' and 'scraped' columns."
   ]
  },
  {
   "cell_type": "markdown",
   "id": "25bbacc7-e0a1-4f98-8234-0ef5f76f3489",
   "metadata": {
    "jp-MarkdownHeadingCollapsed": true,
    "tags": []
   },
   "source": [
    "<!-- [Evaluation: ]\n",
    "- Load dataframe as df\n",
    "- Check that the len of df = len of the result list from question 2. \n",
    "- Check that each line has an abstract, with len() > 100 e.g.\n",
    " -->"
   ]
  },
  {
   "cell_type": "code",
   "execution_count": 4,
   "id": "1ee8f157-0b13-4a9b-b4ff-56c738754500",
   "metadata": {
    "deletable": false,
    "nbgrader": {
     "cell_type": "code",
     "checksum": "fc342ab1d66dd404139011d72ebc4627",
     "grade": false,
     "grade_id": "cell-ac850524f08140c8",
     "locked": false,
     "schema_version": 3,
     "solution": true,
     "task": false
    }
   },
   "outputs": [
    {
     "data": {
      "text/html": [
       "<div>\n",
       "<style scoped>\n",
       "    .dataframe tbody tr th:only-of-type {\n",
       "        vertical-align: middle;\n",
       "    }\n",
       "\n",
       "    .dataframe tbody tr th {\n",
       "        vertical-align: top;\n",
       "    }\n",
       "\n",
       "    .dataframe thead th {\n",
       "        text-align: right;\n",
       "    }\n",
       "</style>\n",
       "<table border=\"1\" class=\"dataframe\">\n",
       "  <thead>\n",
       "    <tr style=\"text-align: right;\">\n",
       "      <th></th>\n",
       "      <th>title</th>\n",
       "      <th>authors</th>\n",
       "      <th>url</th>\n",
       "      <th>Abstract</th>\n",
       "      <th>Scraped</th>\n",
       "    </tr>\n",
       "  </thead>\n",
       "  <tbody>\n",
       "    <tr>\n",
       "      <th>0</th>\n",
       "      <td>Influencing Software Usage</td>\n",
       "      <td>[Lorrie Faith Cranor, Rebecca N. Wright]</td>\n",
       "      <td>http://arxiv.org/abs/cs/9809018v1</td>\n",
       "      <td>\\nAbstract:  Technology designers often strive...</td>\n",
       "      <td>True</td>\n",
       "    </tr>\n",
       "    <tr>\n",
       "      <th>1</th>\n",
       "      <td>The Impact of Net Culture on Mainstream Societ...</td>\n",
       "      <td>[Tapas Kumar Das]</td>\n",
       "      <td>http://arxiv.org/abs/cs/9903013v1</td>\n",
       "      <td>\\nAbstract:  In this work the impact of the In...</td>\n",
       "      <td>True</td>\n",
       "    </tr>\n",
       "    <tr>\n",
       "      <th>2</th>\n",
       "      <td>Not Just a Matter of Time: Field Differences a...</td>\n",
       "      <td>[Rob Kling, Geoffrey McKim]</td>\n",
       "      <td>http://arxiv.org/abs/cs/9909008v2</td>\n",
       "      <td>\\nAbstract:  The shift towards the use of elec...</td>\n",
       "      <td>True</td>\n",
       "    </tr>\n",
       "    <tr>\n",
       "      <th>3</th>\n",
       "      <td>Agents of Choice: Tools that Facilitate Notice...</td>\n",
       "      <td>[Lorrie Faith Cranor]</td>\n",
       "      <td>http://arxiv.org/abs/cs/0001011v1</td>\n",
       "      <td>\\nAbstract:  A variety of tools have been intr...</td>\n",
       "      <td>True</td>\n",
       "    </tr>\n",
       "    <tr>\n",
       "      <th>4</th>\n",
       "      <td>Scientific Collaboratories as Socio-Technical ...</td>\n",
       "      <td>[Rob Kling, Geoffrey McKim, Joanna Fortuna, Ad...</td>\n",
       "      <td>http://arxiv.org/abs/cs/0005007v1</td>\n",
       "      <td>\\nAbstract:  Collaboratories refer to laborato...</td>\n",
       "      <td>True</td>\n",
       "    </tr>\n",
       "    <tr>\n",
       "      <th>...</th>\n",
       "      <td>...</td>\n",
       "      <td>...</td>\n",
       "      <td>...</td>\n",
       "      <td>...</td>\n",
       "      <td>...</td>\n",
       "    </tr>\n",
       "    <tr>\n",
       "      <th>195</th>\n",
       "      <td>Profile Popularity in a Business-oriented Onli...</td>\n",
       "      <td>[Thorsten Strufe]</td>\n",
       "      <td>http://arxiv.org/abs/1003.0466v1</td>\n",
       "      <td>\\nAbstract:  Analysing Online Social Networks ...</td>\n",
       "      <td>True</td>\n",
       "    </tr>\n",
       "    <tr>\n",
       "      <th>196</th>\n",
       "      <td>Graphically E-Learning introduction and its be...</td>\n",
       "      <td>[A. Daneshmand Malayeri, J. Abdollahi, R. Rezaei]</td>\n",
       "      <td>http://arxiv.org/abs/1003.3094v1</td>\n",
       "      <td>\\nAbstract:E-learning with using multimedia an...</td>\n",
       "      <td>True</td>\n",
       "    </tr>\n",
       "    <tr>\n",
       "      <th>197</th>\n",
       "      <td>New designing of E-Learning systems with using...</td>\n",
       "      <td>[Amin Daneshmand Malayeri, Jalal Abdollahi]</td>\n",
       "      <td>http://arxiv.org/abs/1003.3097v1</td>\n",
       "      <td>\\nAbstract:One of the most applied learning in...</td>\n",
       "      <td>True</td>\n",
       "    </tr>\n",
       "    <tr>\n",
       "      <th>198</th>\n",
       "      <td>Design and Implementation of an Intelligent Ed...</td>\n",
       "      <td>[Somayeh Fatahi, Nasser Ghasem-Aghaee]</td>\n",
       "      <td>http://arxiv.org/abs/1004.1224v2</td>\n",
       "      <td>\\nAbstract:The Personality and emotions are ef...</td>\n",
       "      <td>True</td>\n",
       "    </tr>\n",
       "    <tr>\n",
       "      <th>199</th>\n",
       "      <td>GIS: Geographic Information System An applicat...</td>\n",
       "      <td>[S. K. Nayak, S. B. Thorat, N. V. Kalyankar]</td>\n",
       "      <td>http://arxiv.org/abs/1004.1793v1</td>\n",
       "      <td>\\nAbstract:The country India follows the plann...</td>\n",
       "      <td>True</td>\n",
       "    </tr>\n",
       "  </tbody>\n",
       "</table>\n",
       "<p>200 rows × 5 columns</p>\n",
       "</div>"
      ],
      "text/plain": [
       "                                                 title  \\\n",
       "0                           Influencing Software Usage   \n",
       "1    The Impact of Net Culture on Mainstream Societ...   \n",
       "2    Not Just a Matter of Time: Field Differences a...   \n",
       "3    Agents of Choice: Tools that Facilitate Notice...   \n",
       "4    Scientific Collaboratories as Socio-Technical ...   \n",
       "..                                                 ...   \n",
       "195  Profile Popularity in a Business-oriented Onli...   \n",
       "196  Graphically E-Learning introduction and its be...   \n",
       "197  New designing of E-Learning systems with using...   \n",
       "198  Design and Implementation of an Intelligent Ed...   \n",
       "199  GIS: Geographic Information System An applicat...   \n",
       "\n",
       "                                               authors  \\\n",
       "0             [Lorrie Faith Cranor, Rebecca N. Wright]   \n",
       "1                                    [Tapas Kumar Das]   \n",
       "2                          [Rob Kling, Geoffrey McKim]   \n",
       "3                                [Lorrie Faith Cranor]   \n",
       "4    [Rob Kling, Geoffrey McKim, Joanna Fortuna, Ad...   \n",
       "..                                                 ...   \n",
       "195                                  [Thorsten Strufe]   \n",
       "196  [A. Daneshmand Malayeri, J. Abdollahi, R. Rezaei]   \n",
       "197        [Amin Daneshmand Malayeri, Jalal Abdollahi]   \n",
       "198             [Somayeh Fatahi, Nasser Ghasem-Aghaee]   \n",
       "199       [S. K. Nayak, S. B. Thorat, N. V. Kalyankar]   \n",
       "\n",
       "                                   url  \\\n",
       "0    http://arxiv.org/abs/cs/9809018v1   \n",
       "1    http://arxiv.org/abs/cs/9903013v1   \n",
       "2    http://arxiv.org/abs/cs/9909008v2   \n",
       "3    http://arxiv.org/abs/cs/0001011v1   \n",
       "4    http://arxiv.org/abs/cs/0005007v1   \n",
       "..                                 ...   \n",
       "195   http://arxiv.org/abs/1003.0466v1   \n",
       "196   http://arxiv.org/abs/1003.3094v1   \n",
       "197   http://arxiv.org/abs/1003.3097v1   \n",
       "198   http://arxiv.org/abs/1004.1224v2   \n",
       "199   http://arxiv.org/abs/1004.1793v1   \n",
       "\n",
       "                                              Abstract  Scraped  \n",
       "0    \\nAbstract:  Technology designers often strive...     True  \n",
       "1    \\nAbstract:  In this work the impact of the In...     True  \n",
       "2    \\nAbstract:  The shift towards the use of elec...     True  \n",
       "3    \\nAbstract:  A variety of tools have been intr...     True  \n",
       "4    \\nAbstract:  Collaboratories refer to laborato...     True  \n",
       "..                                                 ...      ...  \n",
       "195  \\nAbstract:  Analysing Online Social Networks ...     True  \n",
       "196  \\nAbstract:E-learning with using multimedia an...     True  \n",
       "197  \\nAbstract:One of the most applied learning in...     True  \n",
       "198  \\nAbstract:The Personality and emotions are ef...     True  \n",
       "199  \\nAbstract:The country India follows the plann...     True  \n",
       "\n",
       "[200 rows x 5 columns]"
      ]
     },
     "metadata": {},
     "output_type": "display_data"
    }
   ],
   "source": [
    "import pickle\n",
    "import pandas as pd\n",
    "import requests\n",
    "import numpy as np\n",
    "from urllib.parse import urlparse, urlunparse\n",
    "import time\n",
    "\n",
    "# Load your scraped data\n",
    "with open('scraping_result.pkl', 'rb') as f:\n",
    "    data_list = pickle.load(f)\n",
    "df = pd.DataFrame(data_list)\n",
    "df.to_pickle('persistent_df.pkl')\n",
    "\n",
    "#create list for abstracts and use \n",
    "#function to extract them from urls\n",
    "abstract_l=[]\n",
    "abs= [scrape_abstract(x) for x in df['url']]\n",
    "\n",
    "#add all abstracts to a dataframe\n",
    "df_abstracts=df.assign(Abstract= abs)\n",
    "\n",
    "#If abstract is in column, write True for Scraped column\n",
    "df_abstracts['Scraped']= df_abstracts['Abstract'].notna()\n",
    "display(df_abstracts)\n",
    "\n",
    "#store in pickle\n",
    "df_abstracts.to_pickle('scraped_abstracts.df.pkl')\n"
   ]
  },
  {
   "cell_type": "code",
   "execution_count": null,
   "id": "2d95ec0f",
   "metadata": {
    "deletable": false,
    "editable": false,
    "nbgrader": {
     "cell_type": "code",
     "checksum": "cd9348c76775a31d0bc7c64630beda0c",
     "grade": true,
     "grade_id": "cell-d2927458cb5edcd5",
     "locked": true,
     "points": 1,
     "schema_version": 3,
     "solution": false,
     "task": false
    }
   },
   "outputs": [],
   "source": []
  }
 ],
 "metadata": {
  "kernelspec": {
   "display_name": "Python 3 (ipykernel)",
   "language": "python",
   "name": "python3"
  },
  "language_info": {
   "codemirror_mode": {
    "name": "ipython",
    "version": 3
   },
   "file_extension": ".py",
   "mimetype": "text/x-python",
   "name": "python",
   "nbconvert_exporter": "python",
   "pygments_lexer": "ipython3",
   "version": "3.9.12"
  }
 },
 "nbformat": 4,
 "nbformat_minor": 5
}
